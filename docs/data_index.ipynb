{
 "cells": [
  {
   "cell_type": "markdown",
   "id": "bb65f0f9",
   "metadata": {},
   "source": [
    "# [ND-Pyomo-Cookbook](https://jckantor.github.io/ND-Pyomo-Cookbook)\n",
    "\n",
    "## Index of Data files in this Repository\n",
    "\n",
    "### api_key.txt\n",
    "![api_key.txt](data/api_key.txt)\n",
    "* [8.1 Obtaining Historical Stock Data](https://jckantor.github.io/ND-Pyomo-Cookbook/08.01-Obtaining-Historical-Stock_-ata.html#8.1-Obtaining-Historical-Stock-Data)\n",
    "* [8.1.3 Alpha Vantage](https://jckantor.github.io/ND-Pyomo-Cookbook/08.01-Obtaining-Historical-Stock_-ata.html#8.1.3-Alpha-Vantage)\n",
    "\n",
    "### Historical_Adjusted_Close.csv\n",
    "![Historical_Adjusted_Close.csv](data/Historical_Adjusted_Close.csv)\n",
    "* [8.2 Consolidating and Charting Stock Data](https://jckantor.github.io/ND-Pyomo-Cookbook/08.02-Consolidating-and-Charting-Stock-Data.html#8.2-Consolidating-and-Charting-Stock-Data)\n",
    "* [8.2.4 Consolidating adjusted close data](https://jckantor.github.io/ND-Pyomo-Cookbook/08.02-Consolidating-and-Charting-Stock-Data.html#8.2.4-Consolidating-adjusted-close-data)\n",
    "* [8.3.2 Historical data](https://jckantor.github.io/ND-Pyomo-Cookbook/08.03-Binomial-Model-for-Pricing-Options.html#8.3.2-Historical-data)\n",
    "* [8.4.4 Import historical stock price data](https://jckantor.github.io/ND-Pyomo-Cookbook/08.04-MAD-Portfolio-Optimization.html#8.4.4-Import-historical-stock-price-data)"
   ]
  }
 ],
 "metadata": {},
 "nbformat": 4,
 "nbformat_minor": 5
}
