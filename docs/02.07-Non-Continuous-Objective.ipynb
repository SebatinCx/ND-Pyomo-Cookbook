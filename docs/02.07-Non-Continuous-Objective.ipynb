{
 "cells": [
  {
   "cell_type": "markdown",
   "id": "71671052",
   "metadata": {},
   "source": [
    "<!--NOTEBOOK_HEADER-->\n",
    "*This notebook contains material from [ND-Pyomo-Cookbook](https://jckantor.github.io/ND-Pyomo-Cookbook);\n",
    "content is available [on Github](https://github.com/jckantor/ND-Pyomo-Cookbook.git).*\n",
    "*The text is released under the [CC-BY-NC-ND-4.0 license](https://creativecommons.org/licenses/by-nc-nd/4.0/legalcode),\n",
    "and code is released under the [MIT license](https://opensource.org/licenses/MIT).*"
   ]
  },
  {
   "cell_type": "markdown",
   "id": "4dd6780f",
   "metadata": {},
   "source": [
    "<!--NAVIGATION-->\n",
    "< [2.6 Model Predictive Control of a Double Integrator](https://jckantor.github.io/ND-Pyomo-Cookbook/02.06-Model-Predictive-Control-of-a-Double-Integrator.html) | [Contents](toc.html) | [Tag Index](tag_index.html) | [3.0 Assignment Problems](https://jckantor.github.io/ND-Pyomo-Cookbook/03.00-Assignment-Problems.html) ><p><a href=\"https://colab.research.google.com/github/jckantor/ND-Pyomo-Cookbook/blob/master/docs/02.07-Non-Continuous-Objective.ipynb\"> <img align=\"left\" src=\"https://colab.research.google.com/assets/colab-badge.svg\" alt=\"Open in Colab\" title=\"Open in Google Colaboratory\"></a><p><a href=\"https://jckantor.github.io/ND-Pyomo-Cookbook/02.07-Non-Continuous-Objective.ipynb\"> <img align=\"left\" src=\"https://img.shields.io/badge/Github-Download-blue.svg\" alt=\"Download\" title=\"Download Notebook\"></a>"
   ]
  },
  {
   "cell_type": "markdown",
   "metadata": {
    "colab_type": "text",
    "id": "SRXossXvecIC",
    "nbpages": {
     "level": 1,
     "link": "[2.7 Non-Continuous Objectives](https://jckantor.github.io/ND-Pyomo-Cookbook/02.07-Non-Continuous-Objective.html#2.7-Non-Continuous-Objectives)",
     "section": "2.7 Non-Continuous Objectives"
    },
    "pycharm": {}
   },
   "source": [
    "# 2.7 Non-Continuous Objectives\n",
    "\n",
    "Keywords: linear programming, cbc usage, production models"
   ]
  },
  {
   "cell_type": "markdown",
   "metadata": {
    "colab_type": "text",
    "id": "ihMeDuJ5ecIF",
    "nbpages": {
     "level": 1,
     "link": "[2.7 Non-Continuous Objectives](https://jckantor.github.io/ND-Pyomo-Cookbook/02.07-Non-Continuous-Objective.html#2.7-Non-Continuous-Objectives)",
     "section": "2.7 Non-Continuous Objectives"
    },
    "pycharm": {}
   },
   "source": [
    "This notebook demonstrates the use of linear programming to maximize profit for a simple model of a multiproduct production facility. The notebook uses [Pyomo](http://www.pyomo.org/) to represent the model with the [COINOR-CBC](https://github.com/coin-or/Cbc) solver to calculate solutions."
   ]
  },
  {
   "cell_type": "markdown",
   "metadata": {
    "nbpages": {
     "level": 2,
     "link": "[2.7.1 Imports](https://jckantor.github.io/ND-Pyomo-Cookbook/02.07-Non-Continuous-Objective.html#2.7.1-Imports)",
     "section": "2.7.1 Imports"
    }
   },
   "source": [
    "## 2.7.1 Imports"
   ]
  },
  {
   "cell_type": "code",
   "execution_count": null,
   "metadata": {
    "colab": {},
    "colab_type": "code",
    "id": "2JKaLcN8edkz",
    "nbpages": {
     "level": 2,
     "link": "[2.7.1 Imports](https://jckantor.github.io/ND-Pyomo-Cookbook/02.07-Non-Continuous-Objective.html#2.7.1-Imports)",
     "section": "2.7.1 Imports"
    },
    "pycharm": {}
   },
   "outputs": [],
   "source": [
    "%matplotlib inline\n",
    "import matplotlib.pyplot as plt\n",
    "import numpy as np\n",
    "\n",
    "import shutil\n",
    "import sys\n",
    "import os.path\n",
    "\n",
    "if not shutil.which(\"pyomo\"):\n",
    "    !pip install -q pyomo\n",
    "    assert(shutil.which(\"pyomo\"))\n",
    "\n",
    "if not (shutil.which(\"cbc\") or os.path.isfile(\"cbc\")):\n",
    "    if \"google.colab\" in sys.modules:\n",
    "        !apt-get install -y -qq coinor-cbc\n",
    "    else:\n",
    "        try:\n",
    "            !conda install -c conda-forge coincbc \n",
    "        except:\n",
    "            pass\n",
    "\n",
    "assert(shutil.which(\"cbc\") or os.path.isfile(\"cbc\"))\n",
    "\n",
    "from pyomo.environ import *"
   ]
  },
  {
   "cell_type": "markdown",
   "metadata": {
    "colab_type": "text",
    "id": "zywBNq7gecII",
    "nbpages": {
     "level": 2,
     "link": "[2.7.2 Example: Production Bonuses](https://jckantor.github.io/ND-Pyomo-Cookbook/02.07-Non-Continuous-Objective.html#2.7.2-Example:-Production-Bonuses)",
     "section": "2.7.2 Example: Production Bonuses"
    },
    "pycharm": {}
   },
   "source": [
    "## 2.7.2 Example: Production Bonuses\n",
    "\n",
    "A plant produces three products in the amounts $x$, $y$, and $z$ with unit profit of \\\\$40, \\\\$30, and \\\\$50, respectively. There are several constraints imposed by product demand and the availability of specialized labor\n",
    "\n",
    "\\begin{align*}\n",
    "x & \\leq 40 \\\\\n",
    "x + y & \\leq 80 \\\\\n",
    "2x + z & \\leq 100 \\\\\n",
    "z & \\leq 50\n",
    "\\end{align*}\n",
    "\n",
    "In addition, the plant receives bonuses for meeting certain production targets\n",
    "\n",
    "* If the plant produces more than 20 $y$ items, then the unit profit for $y$ will be \\\\$50 plus a fixed bonus of \\\\$200.\n",
    "* If the plant produces more than 30 $z$ items, then the unit profit for $z$ will be \\\\$60 plus a fixed bonus of \\\\$300.\n",
    "\n",
    "Find the optimal production targets."
   ]
  },
  {
   "cell_type": "markdown",
   "metadata": {
    "nbpages": {
     "level": 2,
     "link": "[2.7.3 Model 1. Without bonuses](https://jckantor.github.io/ND-Pyomo-Cookbook/02.07-Non-Continuous-Objective.html#2.7.3-Model-1.-Without-bonuses)",
     "section": "2.7.3 Model 1. Without bonuses"
    }
   },
   "source": [
    "## 2.7.3 Model 1. Without bonuses"
   ]
  },
  {
   "cell_type": "markdown",
   "metadata": {
    "colab_type": "text",
    "id": "oTNbhNemecIM",
    "nbpages": {
     "level": 2,
     "link": "[2.7.3 Model 1. Without bonuses](https://jckantor.github.io/ND-Pyomo-Cookbook/02.07-Non-Continuous-Objective.html#2.7.3-Model-1.-Without-bonuses)",
     "section": "2.7.3 Model 1. Without bonuses"
    },
    "pycharm": {}
   },
   "source": []
  },
  {
   "cell_type": "code",
   "execution_count": null,
   "metadata": {
    "colab": {
     "base_uri": "https://localhost:8080/",
     "height": 527
    },
    "colab_type": "code",
    "executionInfo": {
     "elapsed": 1545,
     "status": "ok",
     "timestamp": 1555698907390,
     "user": {
      "displayName": "Jeffrey Kantor",
      "photoUrl": "https://lh5.googleusercontent.com/-8zK5aAW5RMQ/AAAAAAAAAAI/AAAAAAAAKB0/kssUQyz8DTQ/s64/photo.jpg",
      "userId": "09038942003589296665"
     },
     "user_tz": 240
    },
    "id": "FLdRutwhecIN",
    "nbpages": {
     "level": 2,
     "link": "[2.7.3 Model 1. Without bonuses](https://jckantor.github.io/ND-Pyomo-Cookbook/02.07-Non-Continuous-Objective.html#2.7.3-Model-1.-Without-bonuses)",
     "section": "2.7.3 Model 1. Without bonuses"
    },
    "outputId": "8b984d94-64c1-4917-b56d-96c6ac9a7dbc",
    "pycharm": {}
   },
   "outputs": [
    {
     "name": "stdout",
     "output_type": "stream",
     "text": [
      "# ==========================================================\n",
      "# = Solver Results                                         =\n",
      "# ==========================================================\n",
      "# ----------------------------------------------------------\n",
      "#   Problem Information\n",
      "# ----------------------------------------------------------\n",
      "Problem: \n",
      "- Name: unknown\n",
      "  Lower bound: -5150.0\n",
      "  Upper bound: -5150.0\n",
      "  Number of objectives: 1\n",
      "  Number of constraints: 5\n",
      "  Number of variables: 4\n",
      "  Number of nonzeros: 2\n",
      "  Sense: maximize\n",
      "# ----------------------------------------------------------\n",
      "#   Solver Information\n",
      "# ----------------------------------------------------------\n",
      "Solver: \n",
      "- Status: ok\n",
      "  User time: -1.0\n",
      "  System time: 0.0\n",
      "  Wallclock time: 0.0\n",
      "  Termination condition: optimal\n",
      "  Termination message: Model was solved to optimality (subject to tolerances), and an optimal solution is available.\n",
      "  Statistics: \n",
      "    Branch and bound: \n",
      "      Number of bounded subproblems: None\n",
      "      Number of created subproblems: None\n",
      "    Black box: \n",
      "      Number of iterations: 1\n",
      "  Error rc: 0\n",
      "  Time: 0.02187371253967285\n",
      "# ----------------------------------------------------------\n",
      "#   Solution Information\n",
      "# ----------------------------------------------------------\n",
      "Solution: \n",
      "- number of solutions: 0\n",
      "  number of solutions displayed: 0\n"
     ]
    }
   ],
   "source": [
    "from pyomo.environ import *\n",
    "\n",
    "model = ConcreteModel()\n",
    "model.x = Var(domain=NonNegativeReals)\n",
    "model.y = Var(domain=NonNegativeReals)\n",
    "model.z = Var(domain=NonNegativeReals)\n",
    "\n",
    "model.profit = Objective(expr = 40*model.x + 30*model.y + 50*model.z, sense=maximize)\n",
    "model.demand = Constraint(expr = model.x <= 40)\n",
    "model.laborA = Constraint(expr = model.x + model.y <= 80)\n",
    "model.laborB = Constraint(expr = 2*model.x + model.z <= 100)\n",
    "model.laborC = Constraint(expr = model.z <= 50)\n",
    "\n",
    "# solve\n",
    "SolverFactory('cbc').solve(model).write()"
   ]
  },
  {
   "cell_type": "markdown",
   "metadata": {
    "colab_type": "text",
    "id": "vvul9a6zecIU",
    "nbpages": {
     "level": 2,
     "link": "[2.7.3 Model 1. Without bonuses](https://jckantor.github.io/ND-Pyomo-Cookbook/02.07-Non-Continuous-Objective.html#2.7.3-Model-1.-Without-bonuses)",
     "section": "2.7.3 Model 1. Without bonuses"
    },
    "pycharm": {}
   },
   "source": [
    "The results of the solution step show the solver has converged to an optimal solution. Next we display the particular components of the model of interest to us."
   ]
  },
  {
   "cell_type": "code",
   "execution_count": null,
   "metadata": {
    "colab": {
     "base_uri": "https://localhost:8080/",
     "height": 51
    },
    "colab_type": "code",
    "executionInfo": {
     "elapsed": 722,
     "status": "ok",
     "timestamp": 1555698912767,
     "user": {
      "displayName": "Jeffrey Kantor",
      "photoUrl": "https://lh5.googleusercontent.com/-8zK5aAW5RMQ/AAAAAAAAAAI/AAAAAAAAKB0/kssUQyz8DTQ/s64/photo.jpg",
      "userId": "09038942003589296665"
     },
     "user_tz": 240
    },
    "id": "kvGCRiwMecIW",
    "nbpages": {
     "level": 2,
     "link": "[2.7.3 Model 1. Without bonuses](https://jckantor.github.io/ND-Pyomo-Cookbook/02.07-Non-Continuous-Objective.html#2.7.3-Model-1.-Without-bonuses)",
     "section": "2.7.3 Model 1. Without bonuses"
    },
    "outputId": "90f9e8ed-b4ae-4994-fcb6-e96572f37590",
    "pycharm": {}
   },
   "outputs": [
    {
     "name": "stdout",
     "output_type": "stream",
     "text": [
      "Profit = $5150.0\n",
      "X = 25.0 units\n",
      "Y = 55.0 units\n",
      "Z = 50.0 units\n"
     ]
    }
   ],
   "source": [
    "print(f\"Profit = ${model.profit()}\")\n",
    "print(f\"X = {model.x()} units\")\n",
    "print(f\"Y = {model.y()} units\")\n",
    "print(f\"Z = {model.z()} units\")"
   ]
  },
  {
   "cell_type": "markdown",
   "metadata": {
    "nbpages": {
     "level": 2,
     "link": "[2.7.4 Model 2. Include bonuses](https://jckantor.github.io/ND-Pyomo-Cookbook/02.07-Non-Continuous-Objective.html#2.7.4-Model-2.-Include-bonuses)",
     "section": "2.7.4 Model 2. Include bonuses"
    }
   },
   "source": [
    "## 2.7.4 Model 2. Include bonuses\n",
    "\n",
    "To incorporate the bonus structure into the objective function, we introduce new decision variables\n",
    "\n",
    "\\begin{align*}\n",
    "y & = y_0 + y_1 \\\\\n",
    "z & = z_0 + z_1 \\\\\n",
    "\\end{align*}\n",
    "\n",
    "where $y$ and $z$ denote total production, and $y_1$ and $z_1$ denote production above bonus levels. In addition, we introduce two binary variables, $b_y$ and $b_z$, to indicate when $y$ or $z$, respectively, are in a bonus condition. \n",
    "\n",
    "The profit objective becomes (after some arithmetic)\n",
    "\n",
    "$$ P = 40x + 30y_0 + 50y_1 + 600 b_y + 50z_0 + 60 z_1 + 600 b_z $$\n",
    "\n",
    "For a sufficiently large value of $M$, the constraints\n",
    "\n",
    "\\begin{align*}\n",
    "y_1 & \\leq M b_y \\\\\n",
    "z_1 & \\leq M b_z \\\\\n",
    "\\end{align*}\n",
    "\n",
    "\\begin{align*}\n",
    "y_0 & \\leq 20 \\\\\n",
    "y_0 & \\geq 20 - M(1-b_y)\n",
    "\\end{align*}\n",
    "\n",
    "\\begin{align*}\n",
    "z_0 & \\leq 30 \\\\\n",
    "z_0 & \\geq 30 - M(1-b_z)\n",
    "\\end{align*}\n",
    "\n",
    "enforce the bonus conditions.\n",
    "\n",
    "Let's verify this formulation and new objective before proceeding further."
   ]
  },
  {
   "cell_type": "code",
   "execution_count": null,
   "metadata": {
    "nbpages": {
     "level": 2,
     "link": "[2.7.4 Model 2. Include bonuses](https://jckantor.github.io/ND-Pyomo-Cookbook/02.07-Non-Continuous-Objective.html#2.7.4-Model-2.-Include-bonuses)",
     "section": "2.7.4 Model 2. Include bonuses"
    }
   },
   "outputs": [
    {
     "data": {
      "image/png": "[encoded data removed]",
      "text/plain": [
       "<Figure size 432x288 with 4 Axes>"
      ]
     },
     "metadata": {
      "needs_background": "light"
     },
     "output_type": "display_data"
    }
   ],
   "source": [
    "y = np.linspace(0, 100, 1000)\n",
    "profit_y = [30*_ if _ <= 20 else (50*_ + 200) for _ in y]\n",
    "\n",
    "y0 = np.array([min(20, _) for _ in y])\n",
    "y1 = y - y0\n",
    "by = np.array([1 if _ > 0 else 0 for _ in y1])\n",
    "bonus_y  = 30*y0 + 50*y1 + 600*by\n",
    "\n",
    "fig, ax = plt.subplots(2, 2)\n",
    "\n",
    "ax[0,0].plot(y, y0, label='y0')\n",
    "ax[0,0].plot(y, y1, label='y1')\n",
    "ax[0,0].plot(y, y0 + y1, '--', label='y')\n",
    "ax[0,0].legend()\n",
    "\n",
    "ax[1,0].plot(y, profit_y)\n",
    "ax[1,0].plot(y, bonus_y)\n",
    "ax[1,0].set_title(\"profit_y\")\n",
    "\n",
    "z = np.linspace(0, 100, 1000)\n",
    "profit_z = [50*_ if _ <= 30 else (60*_ + 300) for _ in z]\n",
    "\n",
    "z0 = np.array([min(30, _) for _ in z])\n",
    "z1 = z - z0\n",
    "bz = np.array([1 if _ > 0 else 0 for _ in z1])\n",
    "bonus_z = 50*z0 + 60*z1 + 600*bz\n",
    "\n",
    "ax[0,1].plot(z, z0, label='z0')\n",
    "ax[0,1].plot(z, z1, label='z1')\n",
    "ax[0,1].plot(z, z0 + z1, '--', label='z')\n",
    "ax[0,1].legend()\n",
    "\n",
    "ax[1,1].plot(y, profit_z)\n",
    "ax[1,1].plot(y, bonus_z)\n",
    "ax[1,1].set_title(\"profit_z\")\n",
    "\n",
    "fig.tight_layout()"
   ]
  },
  {
   "cell_type": "markdown",
   "metadata": {
    "nbpages": {
     "level": 2,
     "link": "[2.7.4 Model 2. Include bonuses](https://jckantor.github.io/ND-Pyomo-Cookbook/02.07-Non-Continuous-Objective.html#2.7.4-Model-2.-Include-bonuses)",
     "section": "2.7.4 Model 2. Include bonuses"
    }
   },
   "source": [
    "The corresponding Pyomo model follows. Note that this could be streamlined in various ways."
   ]
  },
  {
   "cell_type": "code",
   "execution_count": 22,
   "metadata": {
    "nbpages": {
     "level": 2,
     "link": "[2.7.4 Model 2. Include bonuses](https://jckantor.github.io/ND-Pyomo-Cookbook/02.07-Non-Continuous-Objective.html#2.7.4-Model-2.-Include-bonuses)",
     "section": "2.7.4 Model 2. Include bonuses"
    }
   },
   "outputs": [
    {
     "name": "stdout",
     "output_type": "stream",
     "text": [
      "# ==========================================================\n",
      "# = Solver Results                                         =\n",
      "# ==========================================================\n",
      "# ----------------------------------------------------------\n",
      "#   Problem Information\n",
      "# ----------------------------------------------------------\n",
      "Problem: \n",
      "- Name: unknown\n",
      "  Lower bound: -7500.0\n",
      "  Upper bound: -7500.0\n",
      "  Number of objectives: 1\n",
      "  Number of constraints: 7\n",
      "  Number of variables: 8\n",
      "  Number of binary variables: 2\n",
      "  Number of integer variables: 2\n",
      "  Number of nonzeros: 7\n",
      "  Sense: maximize\n",
      "# ----------------------------------------------------------\n",
      "#   Solver Information\n",
      "# ----------------------------------------------------------\n",
      "Solver: \n",
      "- Status: ok\n",
      "  User time: -1.0\n",
      "  System time: 0.05\n",
      "  Wallclock time: 0.06\n",
      "  Termination condition: optimal\n",
      "  Termination message: Model was solved to optimality (subject to tolerances), and an optimal solution is available.\n",
      "  Statistics: \n",
      "    Branch and bound: \n",
      "      Number of bounded subproblems: 0\n",
      "      Number of created subproblems: 0\n",
      "    Black box: \n",
      "      Number of iterations: 0\n",
      "  Error rc: 0\n",
      "  Time: 0.08483672142028809\n",
      "# ----------------------------------------------------------\n",
      "#   Solution Information\n",
      "# ----------------------------------------------------------\n",
      "Solution: \n",
      "- number of solutions: 0\n",
      "  number of solutions displayed: 0\n"
     ]
    }
   ],
   "source": [
    "from pyomo.environ import *\n",
    "\n",
    "M = 100\n",
    "\n",
    "model = ConcreteModel()\n",
    "\n",
    "model.x = Var(domain=NonNegativeReals)\n",
    "\n",
    "model.y = Var(domain=NonNegativeReals)\n",
    "model.y0 = Var(bounds=(0, 20))\n",
    "model.y1 = Var(domain=NonNegativeReals)\n",
    "model.by = Var(domain=Binary)\n",
    "\n",
    "model.z = Var(domain=NonNegativeReals)\n",
    "model.z0 = Var(bounds=(0, 30))\n",
    "model.z1 = Var(domain=NonNegativeReals)\n",
    "model.bz = Var(domain=Binary)\n",
    "\n",
    "model.profit = Objective(sense=maximize, expr = \n",
    "                         + 40*model.x \\\n",
    "                         + 30*model.y0 + 50*model.y1 + 600*model.by \\\n",
    "                         + 50*model.z0 + 60*model.z1 + 600*model.bz)\n",
    "\n",
    "model.dy = Constraint(expr = model.y == model.y0 + model.y1)\n",
    "model.dz = Constraint(expr = model.z == model.z0 + model.z1)\n",
    "\n",
    "model.demand = Constraint(expr = model.x <= 40)\n",
    "model.laborA = Constraint(expr = model.x + model.y <= 80)\n",
    "model.laborB = Constraint(expr = 2*model.x + model.z <= 100)\n",
    "model.laborC = Constraint(expr = model.z <= 50)\n",
    "\n",
    "model.bonus_y0 = Constraint(expr = model.y0 >= 20 - M*(1 - model.by))\n",
    "model.bonus_z0 = Constraint(expr = model.z0 >= 30 - M*(1 - model.bz))\n",
    "model.bonus_y1 = Constraint(expr = model.y1 <= M*model.by)\n",
    "model.bonus_z1 = Constraint(expr = model.z1 <= M*model.bz)\n",
    "\n",
    "# solve\n",
    "SolverFactory('cbc').solve(model).write()"
   ]
  },
  {
   "cell_type": "code",
   "execution_count": 19,
   "metadata": {
    "nbpages": {
     "level": 2,
     "link": "[2.7.4 Model 2. Include bonuses](https://jckantor.github.io/ND-Pyomo-Cookbook/02.07-Non-Continuous-Objective.html#2.7.4-Model-2.-Include-bonuses)",
     "section": "2.7.4 Model 2. Include bonuses"
    }
   },
   "outputs": [
    {
     "name": "stdout",
     "output_type": "stream",
     "text": [
      "Profit = $7500.0\n",
      "X = 0.0 units\n",
      "Y = 20.0 + 60.0 = 80.0 units  1.0\n",
      "Z = 30.0 + 20.0 = 50.0 units  1.0\n"
     ]
    }
   ],
   "source": [
    "print(f\"Profit = ${model.profit()}\")\n",
    "print(f\"X = {model.x()} units\")\n",
    "print(f\"Y = {model.y0()} + {model.y1()} = {model.y()} units  {model.by()}\")\n",
    "print(f\"Z = {model.z0()} + {model.z1()} = {model.z()} units  {model.bz()}\")"
   ]
  },
  {
   "cell_type": "markdown",
   "metadata": {
    "nbpages": {
     "level": 2,
     "link": "[2.7.5 Comments](https://jckantor.github.io/ND-Pyomo-Cookbook/02.07-Non-Continuous-Objective.html#2.7.5-Comments)",
     "section": "2.7.5 Comments"
    }
   },
   "source": [
    "## 2.7.5 Comments\n",
    "\n",
    "This particular formulation leaves much to be desired. \n",
    "\n",
    "* The main thing is a lack of numerical robustness on the constraints for $z_0$ and $y_0$. * * It would also be useful to parameterize and general the bonus structure.\n",
    "* The big M method often yields redundant constraints and numerical performance that depends on the choice of M. Generalized disjunctive constraints provide more solution options."
   ]
  },
  {
   "cell_type": "markdown",
   "metadata": {
    "nbpages": {
     "level": 2,
     "link": "[2.7.6 Exercise](https://jckantor.github.io/ND-Pyomo-Cookbook/02.07-Non-Continuous-Objective.html#2.7.6-Exercise)",
     "section": "2.7.6 Exercise"
    }
   },
   "source": [
    "## 2.7.6 Exercise\n",
    "\n",
    "Reformulate this model using the Pyomo.GDP package. Parameterize values for the profit objective, bonus amounts, and bonus levels."
   ]
  },
  {
   "cell_type": "code",
   "execution_count": null,
   "metadata": {
    "nbpages": {
     "level": 2,
     "link": "[2.7.6 Exercise](https://jckantor.github.io/ND-Pyomo-Cookbook/02.07-Non-Continuous-Objective.html#2.7.6-Exercise)",
     "section": "2.7.6 Exercise"
    }
   },
   "outputs": [],
   "source": []
  },
  {
   "cell_type": "markdown",
   "id": "d6f1e05b",
   "metadata": {},
   "source": [
    "<!--NAVIGATION-->\n",
    "< [2.6 Model Predictive Control of a Double Integrator](https://jckantor.github.io/ND-Pyomo-Cookbook/02.06-Model-Predictive-Control-of-a-Double-Integrator.html) | [Contents](toc.html) | [Tag Index](tag_index.html) | [3.0 Assignment Problems](https://jckantor.github.io/ND-Pyomo-Cookbook/03.00-Assignment-Problems.html) ><p><a href=\"https://colab.research.google.com/github/jckantor/ND-Pyomo-Cookbook/blob/master/docs/02.07-Non-Continuous-Objective.ipynb\"> <img align=\"left\" src=\"https://colab.research.google.com/assets/colab-badge.svg\" alt=\"Open in Colab\" title=\"Open in Google Colaboratory\"></a><p><a href=\"https://jckantor.github.io/ND-Pyomo-Cookbook/02.07-Non-Continuous-Objective.ipynb\"> <img align=\"left\" src=\"https://img.shields.io/badge/Github-Download-blue.svg\" alt=\"Download\" title=\"Download Notebook\"></a>"
   ]
  }
 ],
 "metadata": {
  "colab": {
   "collapsed_sections": [],
   "name": "02.01-Production-Models-with-Linear-Constraints.ipynb",
   "provenance": [],
   "version": "0.3.2"
  },
  "kernelspec": {
   "display_name": "Python 3 (ipykernel)",
   "language": "python",
   "name": "python3"
  },
  "language_info": {
   "codemirror_mode": {
    "name": "ipython",
    "version": 3
   },
   "file_extension": ".py",
   "mimetype": "text/x-python",
   "name": "python",
   "nbconvert_exporter": "python",
   "pygments_lexer": "ipython3",
   "version": "3.8.5"
  }
 },
 "nbformat": 4,
 "nbformat_minor": 4
}
