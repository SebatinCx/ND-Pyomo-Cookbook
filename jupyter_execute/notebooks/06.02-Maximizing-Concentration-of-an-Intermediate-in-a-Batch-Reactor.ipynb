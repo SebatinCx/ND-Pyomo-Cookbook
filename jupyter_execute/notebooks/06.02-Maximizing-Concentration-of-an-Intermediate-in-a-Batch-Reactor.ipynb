{
 "cells": [
  {
   "cell_type": "markdown",
   "metadata": {
    "colab_type": "text",
    "id": "A4n0I0WGFg2I"
   },
   "source": [
    "\n",
    "# Maximizing Concentration of an Intermediate in a Batch Reactor\n",
    "\n",
    "Keywords: ipopt usage, scipy.minimize_scalar, scipy.odeint, unconstrained optimization\n",
    "\n",
    "This notebook presents an example of the finding the time period required to achieve an optimal result. Because the period of operation is an unknown "
   ]
  },
  {
   "cell_type": "markdown",
   "metadata": {},
   "source": [
    "## Problem Statement\n",
    "\n",
    "A desired product $B$ is as an intermediate in a series reactions\n",
    "\n",
    "$$\n",
    "\\begin{align}\n",
    "A \\overset{k_A}{\\longrightarrow} B \\overset{k_B}{\\longrightarrow} C\n",
    "\\end{align}\n",
    "$$\n",
    "\n",
    "where $A$ is a raw material and $C$ is an undesired by-product. The reaction operates isothermally with rate constants $k_A = 0.5\\ \\mbox{min}^{-1}$ and $k_B = 0.1\\ \\mbox{min}^{-1}$. The raw material is a solution with concentration $C_{A,f} = 2.0\\ \\mbox{moles/liter}$.\n",
    "\n",
    "A 100 liter tank is available for use as a batch reactor. How long should the reaction be operated to maximize the concentration of $B$?"
   ]
  },
  {
   "cell_type": "markdown",
   "metadata": {},
   "source": [
    "## Imports"
   ]
  },
  {
   "cell_type": "code",
   "execution_count": 1,
   "metadata": {
    "colab": {},
    "colab_type": "code",
    "id": "qceXwUrFIKB8"
   },
   "outputs": [],
   "source": [
    "%matplotlib inline\n",
    "\n",
    "import matplotlib.pyplot as plt\n",
    "import numpy as np\n",
    "from scipy.integrate import odeint\n",
    "from scipy.optimize import minimize_scalar\n",
    "\n",
    "import shutil\n",
    "import sys\n",
    "import os.path\n",
    "\n",
    "if not shutil.which(\"pyomo\"):\n",
    "    !pip install -q pyomo\n",
    "    assert(shutil.which(\"pyomo\"))\n",
    "\n",
    "if not (shutil.which(\"ipopt\") or os.path.isfile(\"ipopt\")):\n",
    "    if \"google.colab\" in sys.modules:\n",
    "        !wget -N -q \"https://ampl.com/dl/open/ipopt/ipopt-linux64.zip\"\n",
    "        !unzip -o -q ipopt-linux64\n",
    "    else:\n",
    "        try:\n",
    "            !conda install -c conda-forge ipopt \n",
    "        except:\n",
    "            pass\n",
    "\n",
    "assert(shutil.which(\"ipopt\") or os.path.isfile(\"ipopt\"))\n",
    "from pyomo.environ import *\n",
    "from pyomo.dae import *"
   ]
  },
  {
   "cell_type": "markdown",
   "metadata": {
    "colab_type": "text",
    "id": "NdetctYWFg2L"
   },
   "source": [
    "## Mathematical model\n",
    "\n",
    "A material balance for an isothermal stirred batch reactor with a volume $V = 40$ liters and an initial concentration $C_{A,f}$ is given by\n",
    "\n",
    "$$\n",
    "\\begin{align}\n",
    "V\\frac{dC_A}{dt} & = - V k_A C_A \\\\\n",
    "V\\frac{dC_B}{dt} & = V k_A C_A - V k_B C_B\n",
    "\\end{align}\n",
    "$$\n",
    "\n",
    "Eliminating the common factor $V$\n",
    "\n",
    "$$\n",
    "\\begin{align}\n",
    "\\frac{dC_A}{dt} & = - k_A C_A \\\\\n",
    "\\frac{dC_B}{dt} & = k_A C_A - k_B C_B\n",
    "\\end{align}\n",
    "$$\n",
    "\n",
    "With an initial concentration $C_{A,f}$. A numerical solution to these equations is shown in the following cell."
   ]
  },
  {
   "cell_type": "code",
   "execution_count": 2,
   "metadata": {
    "colab": {
     "base_uri": "https://localhost:8080/",
     "height": 295
    },
    "colab_type": "code",
    "executionInfo": {
     "elapsed": 6102,
     "status": "ok",
     "timestamp": 1559058898921,
     "user": {
      "displayName": "Jeffrey Kantor",
      "photoUrl": "https://lh5.googleusercontent.com/-8zK5aAW5RMQ/AAAAAAAAAAI/AAAAAAAAKB0/kssUQyz8DTQ/s64/photo.jpg",
      "userId": "09038942003589296665"
     },
     "user_tz": 300
    },
    "id": "9H59ye_PFg2M",
    "outputId": "8e2e5fba-debe-418e-93d4-3134343cb664"
   },
   "outputs": [
    {
     "data": {
      "image/png": "[encoded data removed]",
      "text/plain": [
       "<Figure size 432x288 with 1 Axes>"
      ]
     },
     "metadata": {
      "filenames": {
       "image/png": "/Users/jeff/Google Drive/GitHub/ND-Pyomo-Cookbook/_build/jupyter_execute/notebooks/06.02-Maximizing-Concentration-of-an-Intermediate-in-a-Batch-Reactor_5_0.png"
      },
      "needs_background": "light"
     },
     "output_type": "display_data"
    }
   ],
   "source": [
    "V = 40     # liters\n",
    "kA = 0.5   # 1/min\n",
    "kB = 0.1   # l/min\n",
    "CAf = 2.0  # moles/liter\n",
    "\n",
    "def batch(X, t):\n",
    "    CA, CB = X\n",
    "    dCA_dt = -kA*CA\n",
    "    dCB_dt = kA*CA - kB*CB\n",
    "    return [dCA_dt, dCB_dt]\n",
    "\n",
    "t = np.linspace(0,30,200)\n",
    "soln = odeint(batch, [CAf,0], t)\n",
    "plt.plot(t, soln)\n",
    "plt.xlabel('time / minutes')\n",
    "plt.ylabel('concentration / moles per liter')\n",
    "plt.title('Batch Reactor')\n",
    "plt.legend(['$C_A$','$C_B$'])\n",
    "plt.grid(True)"
   ]
  },
  {
   "cell_type": "markdown",
   "metadata": {
    "colab_type": "text",
    "id": "cLCET4hnFg2S"
   },
   "source": [
    "## Optimization with `scipy.minimize_scalar`"
   ]
  },
  {
   "cell_type": "markdown",
   "metadata": {
    "colab_type": "text",
    "id": "-rrDxccbFg2S"
   },
   "source": [
    "To find the maximum value, we first write a function to compute $C_B$ for any value of time $t$."
   ]
  },
  {
   "cell_type": "code",
   "execution_count": 3,
   "metadata": {
    "colab": {},
    "colab_type": "code",
    "id": "N3NI_5GWFg2T"
   },
   "outputs": [],
   "source": [
    "def CB(tf):\n",
    "    soln = odeint(batch, [CAf, 0], [0, tf])\n",
    "    return soln[-1][1]"
   ]
  },
  {
   "cell_type": "markdown",
   "metadata": {
    "colab_type": "text",
    "id": "ui89VA8hFg2V"
   },
   "source": [
    "We gain use `minimize_scalar` to find the value of $t$ that minimizes the negative value of $C_B(t)$.|"
   ]
  },
  {
   "cell_type": "code",
   "execution_count": 4,
   "metadata": {
    "colab": {
     "base_uri": "https://localhost:8080/",
     "height": 102
    },
    "colab_type": "code",
    "executionInfo": {
     "elapsed": 6072,
     "status": "ok",
     "timestamp": 1559058898925,
     "user": {
      "displayName": "Jeffrey Kantor",
      "photoUrl": "https://lh5.googleusercontent.com/-8zK5aAW5RMQ/AAAAAAAAAAI/AAAAAAAAKB0/kssUQyz8DTQ/s64/photo.jpg",
      "userId": "09038942003589296665"
     },
     "user_tz": 300
    },
    "id": "diuqirNEFg2W",
    "outputId": "280f6670-fe70-4b88-a7bc-29fd74530584"
   },
   "outputs": [
    {
     "data": {
      "text/plain": [
       "     fun: -1.3374806339222158\n",
       " message: '\\nOptimization terminated successfully;\\nThe returned value satisfies the termination criteria\\n(using xtol = 1.48e-08 )'\n",
       "    nfev: 23\n",
       "     nit: 19\n",
       " success: True\n",
       "       x: 4.023594924340666"
      ]
     },
     "execution_count": 4,
     "metadata": {},
     "output_type": "execute_result"
    }
   ],
   "source": [
    "minimize_scalar(lambda t: -CB(t), bracket=[0, 50])"
   ]
  },
  {
   "cell_type": "code",
   "execution_count": 5,
   "metadata": {
    "colab": {
     "base_uri": "https://localhost:8080/",
     "height": 34
    },
    "colab_type": "code",
    "executionInfo": {
     "elapsed": 6064,
     "status": "ok",
     "timestamp": 1559058898925,
     "user": {
      "displayName": "Jeffrey Kantor",
      "photoUrl": "https://lh5.googleusercontent.com/-8zK5aAW5RMQ/AAAAAAAAAAI/AAAAAAAAKB0/kssUQyz8DTQ/s64/photo.jpg",
      "userId": "09038942003589296665"
     },
     "user_tz": 300
    },
    "id": "ijeny_k_Fg2Z",
    "outputId": "652ad20d-a98e-4223-d3a5-bd2d0ce24521"
   },
   "outputs": [
    {
     "name": "stdout",
     "output_type": "stream",
     "text": [
      "Concentration c_B has maximum 1.3374806339222158 moles/liter at time 4.023594924340666 minutes.\n"
     ]
    }
   ],
   "source": [
    "tmax = minimize_scalar(lambda t: -CB(t), bracket=[0,50]).x\n",
    "\n",
    "print('Concentration c_B has maximum', CB(tmax), 'moles/liter at time', tmax, 'minutes.')"
   ]
  },
  {
   "cell_type": "markdown",
   "metadata": {
    "colab_type": "text",
    "id": "gvhPt9DxFg2c"
   },
   "source": [
    "## Solution using Pyomo\n",
    "\n",
    "The variable to be found is the time $t_f$ corresponding to the maximum concentration of $B$. For this purpose we introduce a scaled time\n",
    "\n",
    "$$\\tau = \\frac{t}{t_f}$$\n",
    "\n",
    "so that $\\tau=1$ as the desired solution. The problem then reads\n",
    "\n",
    "$$\n",
    "\\begin{align}\n",
    "\\max_{t_f} C_B(\\tau=1)\n",
    "\\end{align}\n",
    "$$\n",
    "\n",
    "subject to\n",
    "\n",
    "$$\n",
    "\\begin{align}\n",
    "\\frac{dC_A}{d\\tau} & = - t_f k_A C_A \\\\\n",
    "\\frac{dC_B}{d\\tau} & = t_f(k_A C_A - k_B C_B)\n",
    "\\end{align}\n",
    "$$\n",
    "\n",
    "The solution to this problem is implemented as a solution to the following Pyomo model."
   ]
  },
  {
   "cell_type": "code",
   "execution_count": 6,
   "metadata": {
    "colab": {
     "base_uri": "https://localhost:8080/",
     "height": 34
    },
    "colab_type": "code",
    "executionInfo": {
     "elapsed": 7492,
     "status": "ok",
     "timestamp": 1559058900360,
     "user": {
      "displayName": "Jeffrey Kantor",
      "photoUrl": "https://lh5.googleusercontent.com/-8zK5aAW5RMQ/AAAAAAAAAAI/AAAAAAAAKB0/kssUQyz8DTQ/s64/photo.jpg",
      "userId": "09038942003589296665"
     },
     "user_tz": 300
    },
    "id": "7S2xp-pHFg2d",
    "outputId": "1a9f8c2f-fdba-43dd-b457-d41afd4813b4"
   },
   "outputs": [
    {
     "name": "stdout",
     "output_type": "stream",
     "text": [
      "Concentration c_B has maximum 1.3374805810221082 moles/liter at time 4.023594178375689 minutes.\n"
     ]
    }
   ],
   "source": [
    "V   = 40    # liters\n",
    "kA  = 0.5   # 1/min\n",
    "kB  = 0.1   # l/min\n",
    "cAf = 2.0   # moles/liter\n",
    "\n",
    "m = ConcreteModel()\n",
    "\n",
    "m.tau = ContinuousSet(bounds=(0, 1))\n",
    "\n",
    "m.tf = Var(domain=NonNegativeReals)\n",
    "m.cA = Var(m.tau, domain=NonNegativeReals)\n",
    "m.cB = Var(m.tau, domain=NonNegativeReals)\n",
    "\n",
    "m.dcA = DerivativeVar(m.cA)\n",
    "m.dcB = DerivativeVar(m.cB)\n",
    "\n",
    "m.odeA = Constraint(m.tau, \n",
    "    rule=lambda m, tau: m.dcA[tau] == m.tf*(-kA*m.cA[tau]) if tau > 0 else Constraint.Skip)\n",
    "m.odeB = Constraint(m.tau,\n",
    "    rule=lambda m, tau: m.dcB[tau] == m.tf*(kA*m.cA[tau] - kB*m.cB[tau]) if tau > 0 else Constraint.Skip)\n",
    "\n",
    "m.ic = ConstraintList()\n",
    "m.ic.add(m.cA[0]  == cAf)\n",
    "m.ic.add(m.cB[0]  == 0)\n",
    "\n",
    "m.obj = Objective(expr=m.cB[1], sense=maximize)\n",
    "\n",
    "TransformationFactory('dae.collocation').apply_to(m)\n",
    "SolverFactory('ipopt').solve(m)\n",
    "print('Concentration c_B has maximum', m.cB[1](), 'moles/liter at time', m.tf(), 'minutes.')"
   ]
  },
  {
   "cell_type": "code",
   "execution_count": null,
   "metadata": {
    "colab": {},
    "colab_type": "code",
    "id": "NPwJqR_IFg2h"
   },
   "outputs": [],
   "source": []
  }
 ],
 "metadata": {
  "colab": {
   "collapsed_sections": [],
   "name": "06.02-Maximizing-Concentration-of-an-Intermediate-in-a-Batch-Reactor.ipynb",
   "provenance": [],
   "toc_visible": true,
   "version": "0.3.2"
  },
  "kernelspec": {
   "display_name": "Python 3 (ipykernel)",
   "language": "python",
   "name": "python3"
  },
  "language_info": {
   "codemirror_mode": {
    "name": "ipython",
    "version": 3
   },
   "file_extension": ".py",
   "mimetype": "text/x-python",
   "name": "python",
   "nbconvert_exporter": "python",
   "pygments_lexer": "ipython3",
   "version": "3.9.7"
  }
 },
 "nbformat": 4,
 "nbformat_minor": 4
}