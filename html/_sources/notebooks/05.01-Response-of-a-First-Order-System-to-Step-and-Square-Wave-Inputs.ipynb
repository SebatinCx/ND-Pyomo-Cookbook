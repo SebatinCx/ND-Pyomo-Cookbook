{
 "cells": [
  {
   "cell_type": "markdown",
   "metadata": {
    "colab_type": "text",
    "id": "2fn71JmtwN_n",
    "pycharm": {}
   },
   "source": [
    "# Response of a First Order System to Step and Square Wave Inputs\n",
    "\n",
    "Keywords: Simulator, ipopt usage\n",
    "\n",
    "```{index} Simulator\n",
    "```\n",
    "```{index} ipopt\n",
    "```\n",
    "\n",
    "This notebook demonstrates simulation of a linear first-order system in Pyomo using the `Simulator` class from Pyomo.  The notebook also demonstrates the construction and use of analytical approximations to step functions and square wave inputs."
   ]
  },
  {
   "cell_type": "markdown",
   "metadata": {},
   "source": [
    "## Imports"
   ]
  },
  {
   "cell_type": "code",
   "execution_count": 1,
   "metadata": {
    "colab": {},
    "colab_type": "code",
    "id": "I-G6nxedwUAF",
    "pycharm": {}
   },
   "outputs": [],
   "source": [
    "import matplotlib.pyplot as plt\n",
    "\n",
    "from math import pi\n",
    "\n",
    "import shutil\n",
    "import sys\n",
    "import os.path\n",
    "\n",
    "if not shutil.which(\"pyomo\"):\n",
    "    !pip install -q pyomo\n",
    "    assert(shutil.which(\"pyomo\"))\n",
    "\n",
    "if not (shutil.which(\"ipopt\") or os.path.isfile(\"ipopt\")):\n",
    "    if \"google.colab\" in sys.modules:\n",
    "        !wget -N -q \"https://ampl.com/dl/open/ipopt/ipopt-linux64.zip\"\n",
    "        !unzip -o -q ipopt-linux64\n",
    "    else:\n",
    "        try:\n",
    "            !conda install -c conda-forge ipopt \n",
    "        except:\n",
    "            pass\n",
    "\n",
    "assert(shutil.which(\"ipopt\") or os.path.isfile(\"ipopt\"))\n",
    "    \n",
    "from pyomo.environ import *\n",
    "from pyomo.dae import *"
   ]
  },
  {
   "cell_type": "markdown",
   "metadata": {
    "colab_type": "text",
    "id": "DPakBPtBwN_q",
    "pycharm": {}
   },
   "source": [
    "## First-order differential equation with constant input\n",
    "\n",
    "The following cell simulates the response of a first-order linear model in the form\n",
    "\n",
    "$$\n",
    "\\begin{align}\n",
    "\\tau\\frac{dy}{dt} + y & = K u(t) \\\\\n",
    "\\end{align}\n",
    "$$\n",
    "\n",
    "where $\\tau$ and $K$ are model parameters, and $u(t)=1$ is an external process input.  "
   ]
  },
  {
   "cell_type": "code",
   "execution_count": 23,
   "metadata": {
    "colab": {
     "base_uri": "https://localhost:8080/",
     "height": 295
    },
    "colab_type": "code",
    "executionInfo": {
     "elapsed": 5593,
     "status": "ok",
     "timestamp": 1557657354444,
     "user": {
      "displayName": "Jeffrey Kantor",
      "photoUrl": "https://lh5.googleusercontent.com/-8zK5aAW5RMQ/AAAAAAAAAAI/AAAAAAAAKB0/kssUQyz8DTQ/s64/photo.jpg",
      "userId": "09038942003589296665"
     },
     "user_tz": 240
    },
    "id": "tHGcynz1wN_r",
    "outputId": "40db578c-9045-4e62-ba7f-0060cc699a97",
    "pycharm": {}
   },
   "outputs": [],
   "source": [
    "tfinal = 10\n",
    "tau = 1\n",
    "K = 5\n",
    "\n",
    "# define u(t)\n",
    "def u(t):\n",
    "    return 1.0\n",
    "\n",
    "# create a model object\n",
    "model = ConcreteModel()\n",
    "\n",
    "# define the independent variable\n",
    "model.t = ContinuousSet(bounds=(0, tfinal))\n",
    "\n",
    "# define the dependent variables\n",
    "model.y = Var(model.t)\n",
    "model.dydt = DerivativeVar(model.y)\n",
    "\n",
    "# fix the initial value of y\n",
    "model.y[0].fix(4)\n",
    "\n",
    "# define the differential equation as a constraint\n",
    "@model.Constraint(model.t)\n",
    "def ode(m, t):\n",
    "    return tau*model.dydt[t] + model.y[t] == K*u(t)"
   ]
  },
  {
   "cell_type": "code",
   "execution_count": 24,
   "metadata": {},
   "outputs": [
    {
     "name": "stdout",
     "output_type": "stream",
     "text": [
      "y : Size=2, Index=t\n",
      "    Key : Lower : Value : Upper : Fixed : Stale : Domain\n",
      "      0 :  None :     4 :  None :  True : False :  Reals\n",
      "     10 :  None :  None :  None : False :  True :  Reals\n"
     ]
    }
   ],
   "source": [
    "model.y.display()"
   ]
  },
  {
   "cell_type": "code",
   "execution_count": 25,
   "metadata": {
    "colab": {
     "base_uri": "https://localhost:8080/",
     "height": 295
    },
    "colab_type": "code",
    "executionInfo": {
     "elapsed": 5593,
     "status": "ok",
     "timestamp": 1557657354444,
     "user": {
      "displayName": "Jeffrey Kantor",
      "photoUrl": "https://lh5.googleusercontent.com/-8zK5aAW5RMQ/AAAAAAAAAAI/AAAAAAAAKB0/kssUQyz8DTQ/s64/photo.jpg",
      "userId": "09038942003589296665"
     },
     "user_tz": 240
    },
    "id": "tHGcynz1wN_r",
    "outputId": "40db578c-9045-4e62-ba7f-0060cc699a97",
    "pycharm": {}
   },
   "outputs": [
    {
     "data": {
      "text/plain": [
       "array([[4.        ],\n",
       "       [4.09516518],\n",
       "       [4.18126635],\n",
       "       [4.25917761],\n",
       "       [4.32967597],\n",
       "       [4.39346666],\n",
       "       [4.45118776],\n",
       "       [4.50341441],\n",
       "       [4.55067095],\n",
       "       [4.5934305 ],\n",
       "       [4.63212104],\n",
       "       [4.66713048],\n",
       "       [4.69880924],\n",
       "       [4.72747142],\n",
       "       [4.75340218],\n",
       "       [4.77686354],\n",
       "       [4.79809743],\n",
       "       [4.81731337],\n",
       "       [4.83469911],\n",
       "       [4.85042886],\n",
       "       [4.86466192],\n",
       "       [4.87754068],\n",
       "       [4.88919421],\n",
       "       [4.89973902],\n",
       "       [4.90928022],\n",
       "       [4.91791317],\n",
       "       [4.92572462],\n",
       "       [4.93279283],\n",
       "       [4.93918842],\n",
       "       [4.9449753 ],\n",
       "       [4.95021132],\n",
       "       [4.95494926],\n",
       "       [4.95923631],\n",
       "       [4.96311531],\n",
       "       [4.9666254 ],\n",
       "       [4.96980139],\n",
       "       [4.97267511],\n",
       "       [4.97527546],\n",
       "       [4.97762825],\n",
       "       [4.97975715],\n",
       "       [4.98168354],\n",
       "       [4.98342653],\n",
       "       [4.9850037 ],\n",
       "       [4.9864308 ],\n",
       "       [4.98772205],\n",
       "       [4.98889045],\n",
       "       [4.98994758],\n",
       "       [4.99090399],\n",
       "       [4.99176946],\n",
       "       [4.99255276],\n",
       "       [4.99326147],\n",
       "       [4.99390272],\n",
       "       [4.99448304],\n",
       "       [4.99500813],\n",
       "       [4.99548319],\n",
       "       [4.99591304],\n",
       "       [4.99630201],\n",
       "       [4.99665391],\n",
       "       [4.99697229],\n",
       "       [4.99726045],\n",
       "       [4.99752118],\n",
       "       [4.99775709],\n",
       "       [4.99797055],\n",
       "       [4.99816375],\n",
       "       [4.99833848],\n",
       "       [4.99849659],\n",
       "       [4.99863967],\n",
       "       [4.9987691 ],\n",
       "       [4.99888618],\n",
       "       [4.99899214],\n",
       "       [4.99908806],\n",
       "       [4.99917492],\n",
       "       [4.99925359],\n",
       "       [4.99932482],\n",
       "       [4.99938923],\n",
       "       [4.99944739],\n",
       "       [4.99950001],\n",
       "       [4.99954764],\n",
       "       [4.99959071],\n",
       "       [4.99962961],\n",
       "       [4.99966475],\n",
       "       [4.99969657],\n",
       "       [4.99972537],\n",
       "       [4.99975145],\n",
       "       [4.99977533],\n",
       "       [4.99979649],\n",
       "       [4.99981579],\n",
       "       [4.99983331],\n",
       "       [4.99984916],\n",
       "       [4.99986348],\n",
       "       [4.99987643],\n",
       "       [4.99988812],\n",
       "       [4.99989869],\n",
       "       [4.99990825],\n",
       "       [4.99991692],\n",
       "       [4.99992473],\n",
       "       [4.99993178],\n",
       "       [4.99993818],\n",
       "       [4.999944  ],\n",
       "       [4.99994935],\n",
       "       [4.99995422]])"
      ]
     },
     "execution_count": 25,
     "metadata": {},
     "output_type": "execute_result"
    }
   ],
   "source": [
    "# simulation using scipy integrators\n",
    "tsim, profiles = Simulator(model, package='scipy').simulate(numpoints=101)\n",
    "tsim\n",
    "profiles"
   ]
  },
  {
   "cell_type": "code",
   "execution_count": 26,
   "metadata": {
    "colab": {
     "base_uri": "https://localhost:8080/",
     "height": 295
    },
    "colab_type": "code",
    "executionInfo": {
     "elapsed": 5593,
     "status": "ok",
     "timestamp": 1557657354444,
     "user": {
      "displayName": "Jeffrey Kantor",
      "photoUrl": "https://lh5.googleusercontent.com/-8zK5aAW5RMQ/AAAAAAAAAAI/AAAAAAAAKB0/kssUQyz8DTQ/s64/photo.jpg",
      "userId": "09038942003589296665"
     },
     "user_tz": 240
    },
    "id": "tHGcynz1wN_r",
    "outputId": "40db578c-9045-4e62-ba7f-0060cc699a97",
    "pycharm": {}
   },
   "outputs": [
    {
     "data": {
      "image/png": "[encoded data removed]",
      "text/plain": [
       "<Figure size 432x288 with 1 Axes>"
      ]
     },
     "metadata": {
      "needs_background": "light"
     },
     "output_type": "display_data"
    }
   ],
   "source": [
    "fig, ax = plt.subplots(1, 1)\n",
    "ax.plot(tsim, profiles, label='y')\n",
    "ax.plot(tsim, [u(t) for t in tsim], label='u')\n",
    "ax.set_xlabel('time / sec')\n",
    "ax.set_ylabel('response')\n",
    "ax.set_title('Response of a linear first-order ODE')\n",
    "ax.legend()\n",
    "ax.grid(True)"
   ]
  },
  {
   "cell_type": "markdown",
   "metadata": {
    "colab_type": "text",
    "id": "eXvU5FXLd1Wt",
    "pycharm": {}
   },
   "source": [
    "## Encapsulating into a function\n",
    "\n",
    "In following cells we would like to explore the response of a first order system to changes in parameters and input functions. To facilitate this study, the next cell encapsulates the simulation into a function that can be called with different parameter values and input functions."
   ]
  },
  {
   "cell_type": "code",
   "execution_count": 3,
   "metadata": {
    "colab": {
     "base_uri": "https://localhost:8080/",
     "height": 295
    },
    "colab_type": "code",
    "executionInfo": {
     "elapsed": 5880,
     "status": "ok",
     "timestamp": 1557657354747,
     "user": {
      "displayName": "Jeffrey Kantor",
      "photoUrl": "https://lh5.googleusercontent.com/-8zK5aAW5RMQ/AAAAAAAAAAI/AAAAAAAAKB0/kssUQyz8DTQ/s64/photo.jpg",
      "userId": "09038942003589296665"
     },
     "user_tz": 240
    },
    "id": "UfJ6CgtMd2ME",
    "outputId": "acf26c63-b532-47e9-facd-c5e625976389",
    "pycharm": {}
   },
   "outputs": [
    {
     "data": {
      "image/png": "[encoded data removed]",
      "text/plain": [
       "<Figure size 432x288 with 1 Axes>"
      ]
     },
     "metadata": {
      "needs_background": "light"
     },
     "output_type": "display_data"
    }
   ],
   "source": [
    "def first_order(K=1, tau=1, tfinal=1, u=lambda t: 1):\n",
    "    model = ConcreteModel()\n",
    "    model.t = ContinuousSet(bounds=(0, tfinal))\n",
    "    model.y = Var(model.t)\n",
    "    model.dydt = DerivativeVar(model.y)\n",
    "    model.y[0].fix(0)\n",
    "    @model.Constraint(model.t)\n",
    "    def ode(m, t):\n",
    "        return tau*model.dydt[t] + model.y[t] == K*u(t)\n",
    "    \n",
    "    tsim, profiles = Simulator(model, package='scipy').simulate(numpoints=1000)\n",
    "\n",
    "    fig, ax = plt.subplots(1, 1)\n",
    "    ax.plot(tsim, profiles, label='y')\n",
    "    ax.plot(tsim, [u(t) for t in tsim], label='u')\n",
    "    ax.set_xlabel('time / sec')\n",
    "    ax.set_ylabel('response')\n",
    "    ax.set_title('Response of a linear first-order ODE')\n",
    "    ax.legend()\n",
    "    ax.grid(True)\n",
    "    \n",
    "first_order(5, 1, 30, sin)"
   ]
  },
  {
   "cell_type": "markdown",
   "metadata": {
    "colab_type": "text",
    "id": "XEubS-8Kf24e",
    "pycharm": {}
   },
   "source": [
    "## Analytical approximation to a step input\n",
    "\n",
    "The math functions supported by Pyomo  are limited to that are imported to the standard arithmetic operations of Python (\\*, /, \\**, \\*=, /=, \\**=) and a particular set of nonlinear functions from the Python `math` library. Simulating the response of a system to a discontinuous step input, for example, requires an approximate.\n",
    "\n",
    "An infinitely differentiable approximation to a step change is given by the *Butterworth function* $b_n(t)$\n",
    "\n",
    "$$ b_n(t) = \\frac{1}{1 + (\\frac{t}{c})^n} $$\n",
    "\n",
    "where $n$ is the order of a approximation, and $c$ is value of $t$ where the step change occurs."
   ]
  },
  {
   "cell_type": "code",
   "execution_count": 11,
   "metadata": {
    "colab": {
     "base_uri": "https://localhost:8080/",
     "height": 295
    },
    "colab_type": "code",
    "executionInfo": {
     "elapsed": 6178,
     "status": "ok",
     "timestamp": 1557657355055,
     "user": {
      "displayName": "Jeffrey Kantor",
      "photoUrl": "https://lh5.googleusercontent.com/-8zK5aAW5RMQ/AAAAAAAAAAI/AAAAAAAAKB0/kssUQyz8DTQ/s64/photo.jpg",
      "userId": "09038942003589296665"
     },
     "user_tz": 240
    },
    "id": "XN4fHvsPisM6",
    "outputId": "d3479b3f-0680-49ba-bc8d-f9a102fc460a",
    "pycharm": {}
   },
   "outputs": [
    {
     "data": {
      "image/png": "[encoded data removed]",
      "text/plain": [
       "<Figure size 432x288 with 1 Axes>"
      ]
     },
     "metadata": {
      "needs_background": "light"
     },
     "output_type": "display_data"
    }
   ],
   "source": [
    "u = lambda t: 1/(1 + (t/10)**100)\n",
    "\n",
    "first_order(5, 1, 30, u)"
   ]
  },
  {
   "cell_type": "code",
   "execution_count": 12,
   "metadata": {
    "colab": {
     "base_uri": "https://localhost:8080/",
     "height": 295
    },
    "colab_type": "code",
    "executionInfo": {
     "elapsed": 6401,
     "status": "ok",
     "timestamp": 1557657355289,
     "user": {
      "displayName": "Jeffrey Kantor",
      "photoUrl": "https://lh5.googleusercontent.com/-8zK5aAW5RMQ/AAAAAAAAAAI/AAAAAAAAKB0/kssUQyz8DTQ/s64/photo.jpg",
      "userId": "09038942003589296665"
     },
     "user_tz": 240
    },
    "id": "eozE3YD2ivdl",
    "outputId": "994a72b4-9383-46d2-ad16-bb293cacd678",
    "pycharm": {}
   },
   "outputs": [
    {
     "data": {
      "image/png": "[encoded data removed]",
      "text/plain": [
       "<Figure size 432x288 with 1 Axes>"
      ]
     },
     "metadata": {
      "needs_background": "light"
     },
     "output_type": "display_data"
    }
   ],
   "source": [
    "u = lambda t: 1 - 1/(1 + (t/10)**100)\n",
    "\n",
    "first_order(5, 1, 30, u)"
   ]
  },
  {
   "cell_type": "markdown",
   "metadata": {
    "colab_type": "text",
    "id": "VxHD0mXNjPGq",
    "pycharm": {}
   },
   "source": [
    "## Analytical approximation to a square wave input\n",
    "\n",
    "An analytical approximation to a square wave with frequency $f$ is given by\n",
    "\n",
    "$$\\frac{4}{\\pi} \\sum_{k=1, 3, 5,\\ldots}^N \\frac{sin(k\\pi/N)}{k\\pi/N}\\frac{sin(2\\pi ft)}{k}$$\n",
    "\n",
    "where the first term is the *Lanczos* sigma factor designed to suppress the Gibb's phenomenon associated with Fourier series approximations."
   ]
  },
  {
   "cell_type": "code",
   "execution_count": 13,
   "metadata": {
    "colab": {
     "base_uri": "https://localhost:8080/",
     "height": 295
    },
    "colab_type": "code",
    "executionInfo": {
     "elapsed": 7318,
     "status": "ok",
     "timestamp": 1557657356220,
     "user": {
      "displayName": "Jeffrey Kantor",
      "photoUrl": "https://lh5.googleusercontent.com/-8zK5aAW5RMQ/AAAAAAAAAAI/AAAAAAAAKB0/kssUQyz8DTQ/s64/photo.jpg",
      "userId": "09038942003589296665"
     },
     "user_tz": 240
    },
    "id": "AtvueB7KZndR",
    "outputId": "a913c9a4-8c19-4728-911a-b8ff43bc51ec",
    "pycharm": {}
   },
   "outputs": [
    {
     "data": {
      "image/png": "[encoded data removed]",
      "text/plain": [
       "<Figure size 432x288 with 1 Axes>"
      ]
     },
     "metadata": {
      "needs_background": "light"
     },
     "output_type": "display_data"
    }
   ],
   "source": [
    "def square(t, f=1, N=31):\n",
    "    return (4/pi)*sum((N*sin(k*pi/N)/k/pi)*sin(2*k*f*pi*t)/k for k in range(1, N+1,2))\n",
    "  \n",
    "u = lambda t: square(t, 0.1)\n",
    "\n",
    "first_order(5, 1, 30, u)"
   ]
  },
  {
   "cell_type": "code",
   "execution_count": null,
   "metadata": {},
   "outputs": [],
   "source": []
  }
 ],
 "metadata": {
  "colab": {
   "collapsed_sections": [],
   "name": "05.01-Response-of-a-First-Order-System-to-Step-and-Square-Wave-Inputs.ipynb",
   "provenance": [],
   "version": "0.3.2"
  },
  "kernelspec": {
   "display_name": "Python 3 (ipykernel)",
   "language": "python",
   "name": "python3"
  },
  "language_info": {
   "codemirror_mode": {
    "name": "ipython",
    "version": 3
   },
   "file_extension": ".py",
   "mimetype": "text/x-python",
   "name": "python",
   "nbconvert_exporter": "python",
   "pygments_lexer": "ipython3",
   "version": "3.9.7"
  }
 },
 "nbformat": 4,
 "nbformat_minor": 4
}
