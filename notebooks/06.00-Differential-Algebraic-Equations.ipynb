{
 "cells": [
  {
   "cell_type": "markdown",
   "metadata": {},
   "source": [
    "# Differential-Algebraic Equations\n",
    "\n",
    "* Nicholson, B., Siirola, J. D., Watson, J. P., Zavala, V. M., & Biegler, L. T. (2018). pyomo. dae: a modeling and automatic discretization framework for optimization with differential and algebraic equations. Mathematical Programming Computation, 10(2), 187-223. [[preprint](https://www.osti.gov/pages/servlets/purl/1421609)] [[SpringerLink](https://link.springer.com/article/10.1007/s12532-017-0127-0)]"
   ]
  },
  {
   "cell_type": "code",
   "execution_count": null,
   "metadata": {},
   "outputs": [],
   "source": []
  }
 ],
 "metadata": {
  "kernelspec": {
   "display_name": "Python 3 (ipykernel)",
   "language": "python",
   "name": "python3"
  },
  "language_info": {
   "codemirror_mode": {
    "name": "ipython",
    "version": 3
   },
   "file_extension": ".py",
   "mimetype": "text/x-python",
   "name": "python",
   "nbconvert_exporter": "python",
   "pygments_lexer": "ipython3",
   "version": "3.9.7"
  }
 },
 "nbformat": 4,
 "nbformat_minor": 4
}
