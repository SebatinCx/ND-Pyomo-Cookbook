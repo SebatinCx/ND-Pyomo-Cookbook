{
 "cells": [
  {
   "cell_type": "markdown",
   "metadata": {},
   "source": [
    "# Simulation\n",
    "\n",
    "\n",
    "Documention:\n",
    "\n",
    "* [Dynamic Model Simulation](https://pyomo.readthedocs.io/en/stable/modeling_extensions/dae.html#dynamic-model-simulation)\n",
    "\n",
    "Simulator Limitations:\n",
    "\n",
    "* Differential equations must be first-order and separable\n",
    "* Model can only contain a single ContinuousSet\n",
    "* Can’t simulate constraints with if-statements in the construction rules\n",
    "* Need to provide initial conditions for dynamic states by setting the value or using fix()\n"
   ]
  },
  {
   "cell_type": "code",
   "execution_count": null,
   "metadata": {},
   "outputs": [],
   "source": []
  }
 ],
 "metadata": {
  "kernelspec": {
   "display_name": "Python 3 (ipykernel)",
   "language": "python",
   "name": "python3"
  },
  "language_info": {
   "codemirror_mode": {
    "name": "ipython",
    "version": 3
   },
   "file_extension": ".py",
   "mimetype": "text/x-python",
   "name": "python",
   "nbconvert_exporter": "python",
   "pygments_lexer": "ipython3",
   "version": "3.9.7"
  }
 },
 "nbformat": 4,
 "nbformat_minor": 4
}
