{
 "cells": [
  {
   "cell_type": "markdown",
   "metadata": {
    "pycharm": {}
   },
   "source": [
    "# Getting Started with Pyomo\n",
    "\n",
    "[Pyomo](http://www.pyomo.org/) is an cross-platform, open-source systems modeling language for Python available under the BSD free-software license. Pyomo is well suited to modeling simple and complex systems that can be described by linear or nonlinear algebraic, differential, and partial differential equations and constraints. \n",
    "\n",
    "This collection of notebooks demonstrates the use of Pyomo for typical applications."
   ]
  },
  {
   "cell_type": "markdown",
   "metadata": {
    "pycharm": {}
   },
   "source": [
    "**Online resources**"
   ]
  },
  {
   "cell_type": "markdown",
   "metadata": {
    "pycharm": {}
   },
   "source": [
    "* [Pyomo home page](http://www.pyomo.org/).\n",
    "\n",
    "* [Read the Docs](https://pyomo.readthedocs.io/en/latest/). Official documentation for the latest release of Pyomo.\n",
    "\n",
    "* [Pyomo Questions on Stack Overflow](https://stackoverflow.com/questions/tagged/pyomo)\n",
    "\n",
    "* [Pyomo Forum on Google Groups](https://groups.google.com/forum/#!forum/pyomo-forum)\n",
    "\n",
    "* [Pyomo Examples](https://github.com/Pyomo/pyomo/tree/master/examples) from the official [Pyomo Github Repository](https://github.com/Pyomo/pyomo).\n",
    "\n",
    "* [PyomoGallery](https://github.com/Pyomo/PyomoGallery/wiki)"
   ]
  },
  {
   "cell_type": "markdown",
   "metadata": {
    "pycharm": {}
   },
   "source": [
    "**References**\n",
    "\n",
    "* Bynum, M. L., Hackebeil, G. A., Hart, W. E., Laird, C. D., Nicholson, B. L., Siirola, J. D., Watson, J.-P. and Woodruff, D. L. (2021). Pyomo-optimization modeling in python (Vol. 67). Springer. [Pyomo – Optimization Modeling in Python. Third Edition.](https://link.springer.com/book/10.1007/978-3-030-68928-5)  Springer Optimization and Its Applications Vol. 67. Springer, 2021.\n",
    "\n",
    "* Hart, William E., Jean-Paul Watson, and David L. Woodruff. [\"Pyomo: modeling and solving mathematical programs in Python.\"](https://link.springer.com/article/10.1007/s12532-011-0026-8) Mathematical Programming Computation 3, no. 3 (2011): 219.\n",
    "\n",
    "* Nicholson, Bethany, John D. Siirola, Jean-Paul Watson, Victor M. Zavala, and Lorenz T. Biegler. [\"pyomo.dae: a modeling and automatic discretization framework for optimization with differential and algebraic equations.\"](https://link.springer.com/article/10.1007/s12532-017-0127-0) Mathematical Programming Computation 10(2) (2018): 187-223. [Presentation slides.](https://www.osti.gov/servlets/purl/1392761)\n",
    "\n",
    "* Nicholson, Bethany L., Laird, Carl Damon, Siirola, John Daniel, Watson, Jean-Paul, and Hart, William E. Mon . [\"Pyomo Tutorial.\"](https://www.osti.gov/servlets/purl/1376827) United States. Presentation slides in pdf format.\n",
    "\n",
    "* Watson, Jean-Paul, David L. Woodruff, and William E. Hart. [\"PySP: modeling and solving stochastic programs in Python.\"](https://link.springer.com/article/10.1007/s12532-012-0036-1) Mathematical Programming Computation 4(2) (2012): 109-149."
   ]
  },
  {
   "cell_type": "code",
   "execution_count": null,
   "metadata": {
    "pycharm": {}
   },
   "outputs": [],
   "source": []
  }
 ],
 "metadata": {
  "kernelspec": {
   "display_name": "Python 3 (ipykernel)",
   "language": "python",
   "name": "python3"
  },
  "language_info": {
   "codemirror_mode": {
    "name": "ipython",
    "version": 3
   },
   "file_extension": ".py",
   "mimetype": "text/x-python",
   "name": "python",
   "nbconvert_exporter": "python",
   "pygments_lexer": "ipython3",
   "version": "3.9.13"
  }
 },
 "nbformat": 4,
 "nbformat_minor": 4
}