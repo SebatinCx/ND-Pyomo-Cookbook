{
 "cells": [
  {
   "cell_type": "markdown",
   "metadata": {
    "id": "GxSxNDFYuq6n",
    "pycharm": {}
   },
   "source": [
    "# Running Pyomo on Google Colab"
   ]
  },
  {
   "cell_type": "markdown",
   "metadata": {
    "id": "pJHU-Rpkglqq",
    "pycharm": {}
   },
   "source": [
    "Google Colab offers a web-based computational platform for Python and Jupyter notebooks, which can be accessed through a simple web browser. By using this service, users can avoid the burden of setting up and managing a complicated computing environment on their personal computers.\n",
    "\n",
    "This notebook provides instructions on how to install the pyomo package and open-source solvers on Google Colab. The solvers that will be installed are:\n",
    "\n",
    "| Solver | Description |\n",
    "| :-- | :-- |\n",
    "| GLPK | MILP |\n",
    "| [COIN-OR CLP](https://github.com/coin-or/Clp) | LP\n",
    "| [COIN-OR CBC](https://github.com/coin-or/Cbc) | MILP |\n",
    "| [COIN-OR Ipopt](https://github.com/coin-or/Ipopt) | NLP | |\n",
    "| [COIN-OR Bonmin](https://github.com/coin-or/Bonmin) | MINLP |\n",
    "| [COIN-OR Couenne](https://github.com/coin-or/Couenne) | Global MINLP |\n",
    "\n",
    "Additionally, the notebook tests each solver using a small example problem.\n",
    "\n",
    "**Note: This notebook has been updated to use pyomo and solvers associated with the [IDAES project](https://idaes.org/). As of this writing (Feb, 2023), IDAES is undergoing an update to Version 2.0. This notebook will be updated as needed to stay current with IDAES.**"
   ]
  },
  {
   "cell_type": "markdown",
   "metadata": {
    "id": "jJrxAaqcuzFw",
    "pycharm": {}
   },
   "source": [
    "## Installing Pyomo and Solvers\n",
    "\n",
    "An installation of pyomo and solvers needs to be done once at the start of each Colab session. The following cell tests if it is being run on Google Colab and, if so, installs Pyomo and solvers from the IDAES proejct. The [cell magic](https://ipython.readthedocs.io/en/stable/interactive/magics.html#cellmagic-capture) `%%capture` captures the lengthy output from the installation scripts. See the documentation for [installing the IDAES PSE framework](https://idaes-pse.readthedocs.io/en/latest/tutorials/getting_started/index.html) for additional detail."
   ]
  },
  {
   "cell_type": "code",
   "execution_count": 1,
   "metadata": {
    "executionInfo": {
     "elapsed": 60119,
     "status": "ok",
     "timestamp": 1676939699461,
     "user": {
      "displayName": "Jeffrey Kantor",
      "userId": "09038942003589296665"
     },
     "user_tz": 300
    },
    "id": "yTGBrqQO3vT2",
    "pycharm": {}
   },
   "outputs": [],
   "source": [
    "%%capture\n",
    "import sys\n",
    "import os\n",
    "\n",
    "if 'google.colab' in sys.modules:\n",
    "    !pip install idaes-pse --pre\n",
    "    !idaes get-extensions\n",
    "    !apt-get install -y -qq glpk-utils  \n",
    "    os.environ['PATH'] += ':/usr/bin:/root/.idaes/bin'"
   ]
  },
  {
   "cell_type": "markdown",
   "metadata": {
    "id": "2qVX03aOJ-wn"
   },
   "source": [
    "## Test Model"
   ]
  },
  {
   "cell_type": "markdown",
   "metadata": {
    "id": "pa5VjPfw7Xfm",
    "pycharm": {}
   },
   "source": [
    "The installation of pyomo can be verified by entering a simple model. We'll use the model again in subsequent cells to demonstrate the installation and execution of various solvers."
   ]
  },
  {
   "cell_type": "code",
   "execution_count": 2,
   "metadata": {
    "colab": {
     "base_uri": "https://localhost:8080/"
    },
    "executionInfo": {
     "elapsed": 306,
     "status": "ok",
     "timestamp": 1676939699763,
     "user": {
      "displayName": "Jeffrey Kantor",
      "userId": "09038942003589296665"
     },
     "user_tz": 300
    },
    "id": "LkpGUtiS60lD",
    "outputId": "e47c7a91-2539-4656-9a8e-2f4ac4ce0bdf",
    "pycharm": {}
   },
   "outputs": [
    {
     "name": "stdout",
     "output_type": "stream",
     "text": [
      "2 Var Declarations\n",
      "    x : Size=1, Index=None\n",
      "        Key  : Lower : Value : Upper : Fixed : Stale : Domain\n",
      "        None :     0 :  None :  None : False :  True : NonNegativeReals\n",
      "    y : Size=1, Index=None\n",
      "        Key  : Lower : Value : Upper : Fixed : Stale : Domain\n",
      "        None :     0 :  None :  None : False :  True : NonNegativeReals\n",
      "\n",
      "1 Objective Declarations\n",
      "    profit : Size=1, Index=None, Active=True\n",
      "        Key  : Active : Sense    : Expression\n",
      "        None :   True : maximize : 40*x + 30*y\n",
      "\n",
      "3 Constraint Declarations\n",
      "    demand : Size=1, Index=None, Active=True\n",
      "        Key  : Lower : Body : Upper : Active\n",
      "        None :  -Inf :    x :  40.0 :   True\n",
      "    laborA : Size=1, Index=None, Active=True\n",
      "        Key  : Lower : Body  : Upper : Active\n",
      "        None :  -Inf : x + y :  80.0 :   True\n",
      "    laborB : Size=1, Index=None, Active=True\n",
      "        Key  : Lower : Body    : Upper : Active\n",
      "        None :  -Inf : 2*x + y : 100.0 :   True\n",
      "\n",
      "6 Declarations: x y profit demand laborA laborB\n"
     ]
    }
   ],
   "source": [
    "from pyomo.environ import *\n",
    "\n",
    "# create a model\n",
    "model = ConcreteModel()\n",
    "\n",
    "# declare decision variables\n",
    "model.x = Var(domain=NonNegativeReals)\n",
    "model.y = Var(domain=NonNegativeReals)\n",
    "\n",
    "# declare objective\n",
    "model.profit = Objective(expr = 40*model.x + 30*model.y, sense=maximize)\n",
    "\n",
    "# declare constraints\n",
    "model.demand = Constraint(expr = model.x <= 40)\n",
    "model.laborA = Constraint(expr = model.x + model.y <= 80)\n",
    "model.laborB = Constraint(expr = 2*model.x + model.y <= 100)\n",
    "\n",
    "model.pprint()\n",
    "\n",
    "def display_solution(model):\n",
    "\n",
    "    # display solution\n",
    "    print('\\nProfit = ', model.profit())\n",
    "\n",
    "    print('\\nDecision Variables')\n",
    "    print('x = ', model.x.value)\n",
    "    print('y = ', model.y())\n",
    "\n",
    "    print('\\nConstraints')\n",
    "    print('Demand  = ', model.demand())\n",
    "    print('Labor A = ', model.laborA())\n",
    "    print('Labor B = ', model.laborB())"
   ]
  },
  {
   "cell_type": "markdown",
   "metadata": {
    "id": "dGbhGS4u7vyV",
    "pycharm": {}
   },
   "source": [
    "## GLPK\n",
    "\n",
    "[GLPK](https://en.wikibooks.org/wiki/GLPK) is a the open-source **G**NU **L**inear **P**rogramming **K**it available for use under the GNU General Public License 3. GLPK is a single-threaded simplex solver generally suited to small to medium scale linear-integer programming problems. It is written in C with minimal dependencies and therefore is highly portable among computers and operating systems\n",
    "\n",
    "GLPK is often 'good enough' for many examples. For larger problem, however, users should consider higher-performance solvers, such as COIN-OR CLP, that take advantage of multi-threaded processors."
   ]
  },
  {
   "cell_type": "code",
   "execution_count": 3,
   "metadata": {
    "colab": {
     "base_uri": "https://localhost:8080/"
    },
    "executionInfo": {
     "elapsed": 11,
     "status": "ok",
     "timestamp": 1676939699763,
     "user": {
      "displayName": "Jeffrey Kantor",
      "userId": "09038942003589296665"
     },
     "user_tz": 300
    },
    "id": "HsTASLpi8sdg",
    "outputId": "2629b968-3271-433d-8e84-f668f61c2e8b",
    "pycharm": {}
   },
   "outputs": [
    {
     "name": "stdout",
     "output_type": "stream",
     "text": [
      "GLPSOL: GLPK LP/MIP Solver, v4.65\n",
      "Parameter(s) specified in the command line:\n",
      " --write /tmp/tmp5gh9fdaw.glpk.raw --wglp /tmp/tmpx0pp6dga.glpk.glp --cpxlp\n",
      " /tmp/tmps9u3tv5o.pyomo.lp\n",
      "Reading problem data from '/tmp/tmps9u3tv5o.pyomo.lp'...\n",
      "4 rows, 3 columns, 6 non-zeros\n",
      "30 lines were read\n",
      "Writing problem data to '/tmp/tmpx0pp6dga.glpk.glp'...\n",
      "22 lines were written\n",
      "GLPK Simplex Optimizer, v4.65\n",
      "4 rows, 3 columns, 6 non-zeros\n",
      "Preprocessing...\n",
      "2 rows, 2 columns, 4 non-zeros\n",
      "Scaling...\n",
      " A: min|aij| =  1.000e+00  max|aij| =  2.000e+00  ratio =  2.000e+00\n",
      "Problem data seem to be well scaled\n",
      "Constructing initial basis...\n",
      "Size of triangular part is 2\n",
      "*     0: obj =  -0.000000000e+00 inf =   0.000e+00 (2)\n",
      "*     3: obj =   2.600000000e+03 inf =   0.000e+00 (0)\n",
      "OPTIMAL LP SOLUTION FOUND\n",
      "Time used:   0.0 secs\n",
      "Memory used: 0.0 Mb (40412 bytes)\n",
      "Writing basic solution to '/tmp/tmp5gh9fdaw.glpk.raw'...\n",
      "16 lines were written\n",
      "# ==========================================================\n",
      "# = Solver Results                                         =\n",
      "# ==========================================================\n",
      "# ----------------------------------------------------------\n",
      "#   Problem Information\n",
      "# ----------------------------------------------------------\n",
      "Problem: \n",
      "- Name: unknown\n",
      "  Lower bound: 2600.0\n",
      "  Upper bound: 2600.0\n",
      "  Number of objectives: 1\n",
      "  Number of constraints: 4\n",
      "  Number of variables: 3\n",
      "  Number of nonzeros: 6\n",
      "  Sense: maximize\n",
      "# ----------------------------------------------------------\n",
      "#   Solver Information\n",
      "# ----------------------------------------------------------\n",
      "Solver: \n",
      "- Status: ok\n",
      "  Termination condition: optimal\n",
      "  Statistics: \n",
      "    Branch and bound: \n",
      "      Number of bounded subproblems: 0\n",
      "      Number of created subproblems: 0\n",
      "  Error rc: 0\n",
      "  Time: 0.01231074333190918\n",
      "# ----------------------------------------------------------\n",
      "#   Solution Information\n",
      "# ----------------------------------------------------------\n",
      "Solution: \n",
      "- number of solutions: 0\n",
      "  number of solutions displayed: 0\n",
      "\n",
      "Profit =  2600.0\n",
      "\n",
      "Decision Variables\n",
      "x =  20.0\n",
      "y =  60.0\n",
      "\n",
      "Constraints\n",
      "Demand  =  20.0\n",
      "Labor A =  80.0\n",
      "Labor B =  100.0\n"
     ]
    }
   ],
   "source": [
    "SolverFactory('glpk').solve(model, tee=True).write()\n",
    "\n",
    "# display solution\n",
    "print('\\nProfit = ', model.profit())\n",
    "\n",
    "print('\\nDecision Variables')\n",
    "print('x = ', model.x())\n",
    "print('y = ', model.y())\n",
    "\n",
    "print('\\nConstraints')\n",
    "print('Demand  = ', model.demand())\n",
    "print('Labor A = ', model.laborA())\n",
    "print('Labor B = ', model.laborB())"
   ]
  },
  {
   "cell_type": "markdown",
   "metadata": {
    "id": "t_VxmuXMKGxw"
   },
   "source": [
    "## COIN-OR Clp\n",
    "\n",
    "[COIN-OR Clp](https://github.com/coin-or/Clp) is a multi-threaded open-source linear programming solver written in C++ and distributed under the Eclipse Public License (EPL). Clp is generally a good choice for linear programs that do not include any binary or integer variables. "
   ]
  },
  {
   "cell_type": "code",
   "execution_count": 4,
   "metadata": {
    "colab": {
     "base_uri": "https://localhost:8080/"
    },
    "executionInfo": {
     "elapsed": 9,
     "status": "ok",
     "timestamp": 1676939699764,
     "user": {
      "displayName": "Jeffrey Kantor",
      "userId": "09038942003589296665"
     },
     "user_tz": 300
    },
    "id": "ulmyhA4UYjRb",
    "outputId": "935c8e8e-fb2e-4a0e-8298-df926a1cb8c0"
   },
   "outputs": [
    {
     "name": "stdout",
     "output_type": "stream",
     "text": [
      "Coin LP version 1.17.4, build Nov  3 2022\n",
      "command line - /root/.idaes/bin/clp /tmp/tmpzl39eu31.pyomo.nl -AMPL \n",
      "CLP 1.17.4: \b\b\b\b\b\b\b\b\b\b\b\b# ==========================================================\n",
      "# = Solver Results                                         =\n",
      "# ==========================================================\n",
      "# ----------------------------------------------------------\n",
      "#   Problem Information\n",
      "# ----------------------------------------------------------\n",
      "Problem: \n",
      "- Lower bound: -inf\n",
      "  Upper bound: inf\n",
      "  Number of objectives: 1\n",
      "  Number of constraints: 3\n",
      "  Number of variables: 2\n",
      "  Sense: unknown\n",
      "# ----------------------------------------------------------\n",
      "#   Solver Information\n",
      "# ----------------------------------------------------------\n",
      "Solver: \n",
      "- Status: ok\n",
      "  Message: CLP 1.17.4 optimal, objective -2600; 2 iterations\n",
      "  Termination condition: optimal\n",
      "  Id: 0\n",
      "  Error rc: 0\n",
      "  Time: 0.01854109764099121\n",
      "# ----------------------------------------------------------\n",
      "#   Solution Information\n",
      "# ----------------------------------------------------------\n",
      "Solution: \n",
      "- number of solutions: 0\n",
      "  number of solutions displayed: 0\n",
      "\n",
      "Profit =  2600.0\n",
      "\n",
      "Decision Variables\n",
      "x =  20.0\n",
      "y =  60.0\n",
      "\n",
      "Constraints\n",
      "Demand  =  20.0\n",
      "Labor A =  80.0\n",
      "Labor B =  100.0\n"
     ]
    }
   ],
   "source": [
    "SolverFactory('clp').solve(model, tee=True).write()\n",
    "\n",
    "display_solution(model)"
   ]
  },
  {
   "cell_type": "markdown",
   "metadata": {
    "id": "4bV-uLVe8yu0",
    "pycharm": {}
   },
   "source": [
    "## COIN-OR Cbc\n",
    "\n",
    "[COIN-OR CBC](https://github.com/coin-or/Cbc) is a multi-threaded open-source **C**oin-or **b**ranch and **c**ut mixed-integer linear programming solver written in C++ under the Eclipse Public License (EPL). CBC is generally a good choice for a general purpose MILP solver for medium to large scale problems."
   ]
  },
  {
   "cell_type": "code",
   "execution_count": 5,
   "metadata": {
    "colab": {
     "base_uri": "https://localhost:8080/"
    },
    "executionInfo": {
     "elapsed": 7,
     "status": "ok",
     "timestamp": 1676939699764,
     "user": {
      "displayName": "Jeffrey Kantor",
      "userId": "09038942003589296665"
     },
     "user_tz": 300
    },
    "id": "SgtBao9G9K2R",
    "outputId": "c3035a1f-58b0-42af-9e72-3bb479d60e8f",
    "pycharm": {}
   },
   "outputs": [
    {
     "name": "stdout",
     "output_type": "stream",
     "text": [
      "Welcome to the CBC MILP Solver \n",
      "Version: 2.10.4 \n",
      "Build Date: Nov  3 2022 \n",
      "\n",
      "command line - /root/.idaes/bin/cbc -printingOptions all -import /tmp/tmpmdebou2l.pyomo.lp -stat=1 -solve -solu /tmp/tmpmdebou2l.pyomo.soln (default strategy 1)\n",
      "Option for printingOptions changed from normal to all\n",
      " CoinLpIO::readLp(): Maximization problem reformulated as minimization\n",
      "Coin0009I Switching back to maximization to get correct duals etc\n",
      "Presolve 2 (-2) rows, 2 (-1) columns and 4 (-2) elements\n",
      "Statistics for presolved model\n",
      "\n",
      "\n",
      "Problem has 2 rows, 2 columns (2 with objective) and 4 elements\n",
      "Column breakdown:\n",
      "1 of type 0.0->inf, 1 of type 0.0->up, 0 of type lo->inf, \n",
      "0 of type lo->up, 0 of type free, 0 of type fixed, \n",
      "0 of type -inf->0.0, 0 of type -inf->up, 0 of type 0.0->1.0 \n",
      "Row breakdown:\n",
      "0 of type E 0.0, 0 of type E 1.0, 0 of type E -1.0, \n",
      "0 of type E other, 0 of type G 0.0, 0 of type G 1.0, \n",
      "0 of type G other, 0 of type L 0.0, 0 of type L 1.0, \n",
      "2 of type L other, 0 of type Range 0.0->1.0, 0 of type Range other, \n",
      "0 of type Free \n",
      "Presolve 2 (-2) rows, 2 (-1) columns and 4 (-2) elements\n",
      "0  Obj -0 Dual inf 69.999998 (2)\n",
      "2  Obj 2600\n",
      "Optimal - objective value 2600\n",
      "After Postsolve, objective 2600, infeasibilities - dual 0 (0), primal 0 (0)\n",
      "Optimal objective 2600 - 2 iterations time 0.002, Presolve 0.00\n",
      "Total time (CPU seconds):       0.00   (Wallclock seconds):       0.00\n",
      "\n",
      "# ==========================================================\n",
      "# = Solver Results                                         =\n",
      "# ==========================================================\n",
      "# ----------------------------------------------------------\n",
      "#   Problem Information\n",
      "# ----------------------------------------------------------\n",
      "Problem: \n",
      "- Name: unknown\n",
      "  Lower bound: 2600.0\n",
      "  Upper bound: 2600.0\n",
      "  Number of objectives: 1\n",
      "  Number of constraints: 4\n",
      "  Number of variables: 3\n",
      "  Number of nonzeros: 2\n",
      "  Sense: maximize\n",
      "# ----------------------------------------------------------\n",
      "#   Solver Information\n",
      "# ----------------------------------------------------------\n",
      "Solver: \n",
      "- Status: ok\n",
      "  User time: -1.0\n",
      "  System time: 0.0\n",
      "  Wallclock time: 0.0\n",
      "  Termination condition: optimal\n",
      "  Termination message: Model was solved to optimality (subject to tolerances), and an optimal solution is available.\n",
      "  Statistics: \n",
      "    Branch and bound: \n",
      "      Number of bounded subproblems: None\n",
      "      Number of created subproblems: None\n",
      "    Black box: \n",
      "      Number of iterations: 2\n",
      "  Error rc: 0\n",
      "  Time: 0.024440288543701172\n",
      "# ----------------------------------------------------------\n",
      "#   Solution Information\n",
      "# ----------------------------------------------------------\n",
      "Solution: \n",
      "- number of solutions: 0\n",
      "  number of solutions displayed: 0\n",
      "\n",
      "Profit =  2600.0\n",
      "\n",
      "Decision Variables\n",
      "x =  20.0\n",
      "y =  60.0\n",
      "\n",
      "Constraints\n",
      "Demand  =  20.0\n",
      "Labor A =  80.0\n",
      "Labor B =  100.0\n"
     ]
    }
   ],
   "source": [
    "SolverFactory('cbc').solve(model, tee=True).write()\n",
    "\n",
    "display_solution(model)"
   ]
  },
  {
   "cell_type": "markdown",
   "metadata": {
    "id": "OdcuIo9yvA7E",
    "pycharm": {}
   },
   "source": [
    "## COIN-OR Ipopt installation\n",
    "\n",
    "[COIN-OR Ipopt](https://github.com/coin-or/Ipopt) is an open-source **I**nterior **P**oint **Opt**imizer for large-scale nonlinear optimization available under the Eclipse Public License (EPL). It is well-suited to solving nonlinear programming problems without integer or binary constraints."
   ]
  },
  {
   "cell_type": "code",
   "execution_count": 6,
   "metadata": {
    "colab": {
     "base_uri": "https://localhost:8080/"
    },
    "executionInfo": {
     "elapsed": 331,
     "status": "ok",
     "timestamp": 1676939700091,
     "user": {
      "displayName": "Jeffrey Kantor",
      "userId": "09038942003589296665"
     },
     "user_tz": 300
    },
    "id": "LvFczDKg96aX",
    "outputId": "21d7f079-817f-4c1b-d5f6-b224285a1845",
    "pycharm": {}
   },
   "outputs": [
    {
     "name": "stdout",
     "output_type": "stream",
     "text": [
      "Ipopt 3.13.2: \n",
      "\n",
      "******************************************************************************\n",
      "This program contains Ipopt, a library for large-scale nonlinear optimization.\n",
      " Ipopt is released as open source code under the Eclipse Public License (EPL).\n",
      "         For more information visit http://projects.coin-or.org/Ipopt\n",
      "\n",
      "This version of Ipopt was compiled from source code available at\n",
      "    https://github.com/IDAES/Ipopt as part of the Institute for the Design of\n",
      "    Advanced Energy Systems Process Systems Engineering Framework (IDAES PSE\n",
      "    Framework) Copyright (c) 2018-2019. See https://github.com/IDAES/idaes-pse.\n",
      "\n",
      "This version of Ipopt was compiled using HSL, a collection of Fortran codes\n",
      "    for large-scale scientific computation.  All technical papers, sales and\n",
      "    publicity material resulting from use of the HSL codes within IPOPT must\n",
      "    contain the following acknowledgement:\n",
      "        HSL, a collection of Fortran codes for large-scale scientific\n",
      "        computation. See http://www.hsl.rl.ac.uk.\n",
      "******************************************************************************\n",
      "\n",
      "This is Ipopt version 3.13.2, running with linear solver ma27.\n",
      "\n",
      "Number of nonzeros in equality constraint Jacobian...:        0\n",
      "Number of nonzeros in inequality constraint Jacobian.:        5\n",
      "Number of nonzeros in Lagrangian Hessian.............:        0\n",
      "\n",
      "Total number of variables............................:        2\n",
      "                     variables with only lower bounds:        2\n",
      "                variables with lower and upper bounds:        0\n",
      "                     variables with only upper bounds:        0\n",
      "Total number of equality constraints.................:        0\n",
      "Total number of inequality constraints...............:        3\n",
      "        inequality constraints with only lower bounds:        0\n",
      "   inequality constraints with lower and upper bounds:        0\n",
      "        inequality constraints with only upper bounds:        3\n",
      "\n",
      "iter    objective    inf_pr   inf_du lg(mu)  ||d||  lg(rg) alpha_du alpha_pr  ls\n",
      "   0 -2.6000000e+03 0.00e+00 1.17e+01  -1.0 0.00e+00    -  0.00e+00 0.00e+00   0\n",
      "   1 -2.6200900e+03 7.50e-01 6.34e+00  -1.0 1.88e+01    -  7.55e-01 5.27e-02f  1\n",
      "   2 -2.6035835e+03 1.39e-01 1.27e+00  -1.0 1.07e+00    -  9.86e-01 8.49e-01h  1\n",
      "   3 -2.5997998e+03 0.00e+00 1.00e-06  -1.0 8.12e-02    -  1.00e+00 1.00e+00h  1\n",
      "   4 -2.5999944e+03 0.00e+00 2.83e-08  -2.5 9.74e-03    -  1.00e+00 1.00e+00f  1\n",
      "   5 -2.5999997e+03 0.00e+00 1.50e-09  -3.8 2.66e-04    -  1.00e+00 1.00e+00f  1\n",
      "   6 -2.6000000e+03 0.00e+00 1.85e-11  -5.7 1.49e-05    -  1.00e+00 1.00e+00f  1\n",
      "   7 -2.6000000e+03 0.00e+00 2.78e-14  -8.6 1.84e-07    -  1.00e+00 1.00e+00f  1\n",
      "\n",
      "Number of Iterations....: 7\n",
      "\n",
      "                                   (scaled)                 (unscaled)\n",
      "Objective...............:  -2.6000000259949879e+03   -2.6000000259949879e+03\n",
      "Dual infeasibility......:   2.7778601068099499e-14    2.7778601068099499e-14\n",
      "Constraint violation....:   0.0000000000000000e+00    0.0000000000000000e+00\n",
      "Complementarity.........:   2.5059421204891839e-09    2.5059421204891839e-09\n",
      "Overall NLP error.......:   2.5059421204891839e-09    2.5059421204891839e-09\n",
      "\n",
      "\n",
      "Number of objective function evaluations             = 8\n",
      "Number of objective gradient evaluations             = 8\n",
      "Number of equality constraint evaluations            = 0\n",
      "Number of inequality constraint evaluations          = 8\n",
      "Number of equality constraint Jacobian evaluations   = 0\n",
      "Number of inequality constraint Jacobian evaluations = 8\n",
      "Number of Lagrangian Hessian evaluations             = 7\n",
      "Total CPU secs in IPOPT (w/o function evaluations)   =      0.004\n",
      "Total CPU secs in NLP function evaluations           =      0.000\n",
      "\n",
      "EXIT: Optimal Solution Found.\n",
      "\b\b\b\b\b\b\b\b\b\b\b\b\b\b# ==========================================================\n",
      "# = Solver Results                                         =\n",
      "# ==========================================================\n",
      "# ----------------------------------------------------------\n",
      "#   Problem Information\n",
      "# ----------------------------------------------------------\n",
      "Problem: \n",
      "- Lower bound: -inf\n",
      "  Upper bound: inf\n",
      "  Number of objectives: 1\n",
      "  Number of constraints: 3\n",
      "  Number of variables: 2\n",
      "  Sense: unknown\n",
      "# ----------------------------------------------------------\n",
      "#   Solver Information\n",
      "# ----------------------------------------------------------\n",
      "Solver: \n",
      "- Status: ok\n",
      "  Message: Ipopt 3.13.2\\x3a Optimal Solution Found\n",
      "  Termination condition: optimal\n",
      "  Id: 0\n",
      "  Error rc: 0\n",
      "  Time: 0.03908705711364746\n",
      "# ----------------------------------------------------------\n",
      "#   Solution Information\n",
      "# ----------------------------------------------------------\n",
      "Solution: \n",
      "- number of solutions: 0\n",
      "  number of solutions displayed: 0\n",
      "\n",
      "Profit =  2600.000025994988\n",
      "\n",
      "Decision Variables\n",
      "x =  20.0000001998747\n",
      "y =  60.0000006\n",
      "\n",
      "Constraints\n",
      "Demand  =  20.0000001998747\n",
      "Labor A =  80.0000007998747\n",
      "Labor B =  100.0000009997494\n"
     ]
    }
   ],
   "source": [
    "SolverFactory('ipopt').solve(model, tee=True).write()\n",
    "\n",
    "display_solution(model)"
   ]
  },
  {
   "cell_type": "markdown",
   "metadata": {
    "id": "Q1ru4X2kuxdl",
    "pycharm": {}
   },
   "source": [
    "## COIN-OR Bonmin installation\n",
    "\n",
    "[COIN-OR Bonmin](https://www.coin-or.org/Bonmin/Intro.html) is a **b**asic **o**pen-source solver for **n**onlinear **m**ixed-**in**teger programming problems (MINLP). It utilizes CBC and Ipopt for solving relaxed subproblems."
   ]
  },
  {
   "cell_type": "code",
   "execution_count": 7,
   "metadata": {
    "colab": {
     "base_uri": "https://localhost:8080/"
    },
    "executionInfo": {
     "elapsed": 12,
     "status": "ok",
     "timestamp": 1676939700091,
     "user": {
      "displayName": "Jeffrey Kantor",
      "userId": "09038942003589296665"
     },
     "user_tz": 300
    },
    "id": "BO_KJVUs-bwS",
    "outputId": "f1293839-c0c3-43fc-d25c-c67b8da661ae",
    "pycharm": {}
   },
   "outputs": [
    {
     "name": "stdout",
     "output_type": "stream",
     "text": [
      "Bonmin 1.8.8 using Cbc 2.10.4 and Ipopt 3.13.2\n",
      "bonmin: \n",
      "Cbc3007W No integer variables - nothing to do\n",
      "\n",
      "******************************************************************************\n",
      "This program contains Ipopt, a library for large-scale nonlinear optimization.\n",
      " Ipopt is released as open source code under the Eclipse Public License (EPL).\n",
      "         For more information visit http://projects.coin-or.org/Ipopt\n",
      "\n",
      "This version of Ipopt was compiled from source code available at\n",
      "    https://github.com/IDAES/Ipopt as part of the Institute for the Design of\n",
      "    Advanced Energy Systems Process Systems Engineering Framework (IDAES PSE\n",
      "    Framework) Copyright (c) 2018-2019. See https://github.com/IDAES/idaes-pse.\n",
      "\n",
      "This version of Ipopt was compiled using HSL, a collection of Fortran codes\n",
      "    for large-scale scientific computation.  All technical papers, sales and\n",
      "    publicity material resulting from use of the HSL codes within IPOPT must\n",
      "    contain the following acknowledgement:\n",
      "        HSL, a collection of Fortran codes for large-scale scientific\n",
      "        computation. See http://www.hsl.rl.ac.uk.\n",
      "******************************************************************************\n",
      "\n",
      "NLP0012I \n",
      "              Num      Status      Obj             It       time                 Location\n",
      "NLP0014I             1         OPT -2600        6 0.001858\n",
      "Cbc3007W No integer variables - nothing to do\n",
      "\b\b\b\b\b\b\b\b\n",
      " \t\"Finished\"\n",
      "# ==========================================================\n",
      "# = Solver Results                                         =\n",
      "# ==========================================================\n",
      "# ----------------------------------------------------------\n",
      "#   Problem Information\n",
      "# ----------------------------------------------------------\n",
      "Problem: \n",
      "- Lower bound: -inf\n",
      "  Upper bound: inf\n",
      "  Number of objectives: 1\n",
      "  Number of constraints: 0\n",
      "  Number of variables: 2\n",
      "  Sense: unknown\n",
      "# ----------------------------------------------------------\n",
      "#   Solver Information\n",
      "# ----------------------------------------------------------\n",
      "Solver: \n",
      "- Status: ok\n",
      "  Message: bonmin\\x3a Optimal\n",
      "  Termination condition: optimal\n",
      "  Id: 3\n",
      "  Error rc: 0\n",
      "  Time: 0.025009870529174805\n",
      "# ----------------------------------------------------------\n",
      "#   Solution Information\n",
      "# ----------------------------------------------------------\n",
      "Solution: \n",
      "- number of solutions: 0\n",
      "  number of solutions displayed: 0\n",
      "\n",
      "Profit =  2600.0000259999797\n",
      "\n",
      "Decision Variables\n",
      "x =  20.000000199999512\n",
      "y =  60.00000059999998\n",
      "\n",
      "Constraints\n",
      "Demand  =  20.000000199999512\n",
      "Labor A =  80.0000007999995\n",
      "Labor B =  100.000000999999\n"
     ]
    }
   ],
   "source": [
    "SolverFactory('bonmin').solve(model, tee=True).write()\n",
    "\n",
    "display_solution(model)"
   ]
  },
  {
   "cell_type": "markdown",
   "metadata": {
    "id": "TWi6TZIN_RFh",
    "pycharm": {}
   },
   "source": [
    "## COIN-OR Couenne installation\n",
    "\n",
    "[COIN-OR Couenne](https://www.coin-or.org/Couenne/)  is attempts to find global optima for mixed-integer nonlinear programming problems (MINLP)."
   ]
  },
  {
   "cell_type": "code",
   "execution_count": 8,
   "metadata": {
    "colab": {
     "base_uri": "https://localhost:8080/"
    },
    "executionInfo": {
     "elapsed": 7,
     "status": "ok",
     "timestamp": 1676939700091,
     "user": {
      "displayName": "Jeffrey Kantor",
      "userId": "09038942003589296665"
     },
     "user_tz": 300
    },
    "id": "rysHICYQ_RFl",
    "outputId": "e7dcff29-5e57-4e91-f2ba-ceef03938885",
    "pycharm": {}
   },
   "outputs": [
    {
     "name": "stdout",
     "output_type": "stream",
     "text": [
      "Couenne 0.5.8 -- an Open-Source solver for Mixed Integer Nonlinear Optimization\n",
      "Mailing list: couenne@list.coin-or.org\n",
      "Instructions: http://www.coin-or.org/Couenne\n",
      "couenne: \n",
      "ANALYSIS TEST: Couenne: new cutoff value -2.6000000020e+03 (0.009072 seconds)\n",
      "NLP0012I \n",
      "              Num      Status      Obj             It       time                 Location\n",
      "NLP0014I             1         OPT -2600        6 0.002238\n",
      "Couenne: new cutoff value -2.6000000260e+03 (0.011897 seconds)\n",
      "Loaded instance \"/tmp/tmpit3p06db.pyomo.nl\"\n",
      "Constraints:            3\n",
      "Variables:              2 (0 integer)\n",
      "Auxiliaries:            2 (0 integer)\n",
      "\n",
      "Coin0506I Presolve 0 (-3) rows, 0 (-4) columns and 0 (-8) elements\n",
      "Clp0000I Optimal - objective value -2600\n",
      "Clp0032I Optimal objective -2600 - 0 iterations time 0.002, Presolve 0.00\n",
      "Cbc3007W No integer variables - nothing to do\n",
      "Clp0000I Optimal - objective value -2600\n",
      "\b\b\b\b\b\b\b\b\b\n",
      " \t\"Finished\"\n",
      "\n",
      "Linearization cuts added at root node:          3\n",
      "Linearization cuts added in total:              3  (separation time: 5.4e-05s)\n",
      "Total solve time:                         0.00035s (0.00035s in branch-and-bound)\n",
      "Lower bound:                                -2600\n",
      "Upper bound:                                -2600  (gap: 0.00%)\n",
      "Branch-and-bound nodes:                         0\n",
      "Performance of                           FBBT:\t    6.3e-05s,        3 runs. fix:          0 shrnk:    8.10732 ubd:          0 2ubd:          0 infeas:          0\n",
      "# ==========================================================\n",
      "# = Solver Results                                         =\n",
      "# ==========================================================\n",
      "# ----------------------------------------------------------\n",
      "#   Problem Information\n",
      "# ----------------------------------------------------------\n",
      "Problem: \n",
      "- Lower bound: -inf\n",
      "  Upper bound: inf\n",
      "  Number of objectives: 1\n",
      "  Number of constraints: 0\n",
      "  Number of variables: 2\n",
      "  Sense: unknown\n",
      "# ----------------------------------------------------------\n",
      "#   Solver Information\n",
      "# ----------------------------------------------------------\n",
      "Solver: \n",
      "- Status: ok\n",
      "  Message: couenne\\x3a Optimal\n",
      "  Termination condition: optimal\n",
      "  Id: 3\n",
      "  Error rc: 0\n",
      "  Time: 0.03031015396118164\n",
      "# ----------------------------------------------------------\n",
      "#   Solution Information\n",
      "# ----------------------------------------------------------\n",
      "Solution: \n",
      "- number of solutions: 0\n",
      "  number of solutions displayed: 0\n",
      "\n",
      "Profit =  2600.00002599998\n",
      "\n",
      "Decision Variables\n",
      "x =  20.000000199999516\n",
      "y =  60.000000599999986\n",
      "\n",
      "Constraints\n",
      "Demand  =  20.000000199999516\n",
      "Labor A =  80.0000007999995\n",
      "Labor B =  100.00000099999902\n"
     ]
    }
   ],
   "source": [
    "SolverFactory('couenne').solve(model, tee=True).write()\n",
    "\n",
    "display_solution(model)"
   ]
  },
  {
   "cell_type": "code",
   "execution_count": 8,
   "metadata": {
    "executionInfo": {
     "elapsed": 4,
     "status": "ok",
     "timestamp": 1676939700092,
     "user": {
      "displayName": "Jeffrey Kantor",
      "userId": "09038942003589296665"
     },
     "user_tz": 300
    },
    "id": "uQLFeAJ9D9wn",
    "pycharm": {}
   },
   "outputs": [],
   "source": []
  }
 ],
 "metadata": {
  "colab": {
   "provenance": [],
   "toc_visible": true
  },
  "kernelspec": {
   "display_name": "Python 3 (ipykernel)",
   "language": "python",
   "name": "python3"
  },
  "language_info": {
   "codemirror_mode": {
    "name": "ipython",
    "version": 3
   },
   "file_extension": ".py",
   "mimetype": "text/x-python",
   "name": "python",
   "nbconvert_exporter": "python",
   "pygments_lexer": "ipython3",
   "version": "3.9.13"
  }
 },
 "nbformat": 4,
 "nbformat_minor": 0
}