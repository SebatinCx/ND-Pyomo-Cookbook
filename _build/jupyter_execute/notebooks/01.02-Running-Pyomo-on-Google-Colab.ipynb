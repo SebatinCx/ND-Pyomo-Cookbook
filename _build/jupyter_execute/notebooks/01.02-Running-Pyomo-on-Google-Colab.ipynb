{
 "cells": [
  {
   "cell_type": "markdown",
   "metadata": {
    "id": "GxSxNDFYuq6n",
    "pycharm": {}
   },
   "source": [
    "# Running Pyomo on Google Colab"
   ]
  },
  {
   "cell_type": "markdown",
   "metadata": {
    "id": "pJHU-Rpkglqq",
    "pycharm": {}
   },
   "source": [
    "Google Colab offers a web-based computational platform for Python and Jupyter notebooks, which can be accessed through a simple web browser. By using this service, users can avoid the burden of setting up and managing a complicated computing environment on their personal computers.\n",
    "\n",
    "This notebook provides instructions on how to install the pyomo package and open-source solvers on Google Colab. The solvers that will be installed are:\n",
    "\n",
    "| Solver | Description |\n",
    "| :-- | :-- |\n",
    "| [COIN-OR Clp](https://github.com/coin-or/Clp) | LP\n",
    "| [COIN-OR Cbc](https://github.com/coin-or/Cbc) | MILP |\n",
    "| [COIN-OR Ipopt](https://github.com/coin-or/Ipopt) | NLP | |\n",
    "| [COIN-OR Bonmin](https://github.com/coin-or/Bonmin) | MINLP |\n",
    "| [COIN-OR Couenne](https://github.com/coin-or/Couenne) | Global MINLP |\n",
    "\n",
    "Additionally, the notebook tests each solver using a small example problem.\n",
    "\n",
    "**Note: This notebook has been updated to use pyomo and solvers associated with the [IDAES project](https://idaes.org/). As of this writing (Feb, 2023), IDAES is undergoing an update to Version 2.0. This notebook will be updated as needed to stay current with IDAES.**"
   ]
  },
  {
   "cell_type": "markdown",
   "metadata": {
    "id": "jJrxAaqcuzFw",
    "pycharm": {}
   },
   "source": [
    "## Installing Pyomo and Solvers\n",
    "\n",
    "An installation of pyomo and solvers needs to be done once at the start of each Colab session. The following cell tests if it is being run on Google Colab and, if so, installs Pyomo and solvers from the IDAES proejct. The [cell magic](https://ipython.readthedocs.io/en/stable/interactive/magics.html#cellmagic-capture) `%%capture` captures the lengthy output from the installation scripts. See the documentation for [installing the IDAES PSE framework](https://idaes-pse.readthedocs.io/en/latest/tutorials/getting_started/index.html) for additional detail."
   ]
  },
  {
   "cell_type": "code",
   "execution_count": 1,
   "metadata": {
    "executionInfo": {
     "elapsed": 52029,
     "status": "ok",
     "timestamp": 1677084805641,
     "user": {
      "displayName": "Jeffrey Kantor",
      "userId": "09038942003589296665"
     },
     "user_tz": 300
    },
    "id": "yTGBrqQO3vT2",
    "pycharm": {}
   },
   "outputs": [],
   "source": [
    "%%capture\n",
    "import sys\n",
    "import os\n",
    "\n",
    "if 'google.colab' in sys.modules:\n",
    "    !pip install idaes-pse --pre\n",
    "    !idaes get-extensions --to ./bin \n",
    "    os.environ['PATH'] += ':bin'"
   ]
  },
  {
   "cell_type": "markdown",
   "metadata": {
    "id": "2qVX03aOJ-wn"
   },
   "source": [
    "## Test Model"
   ]
  },
  {
   "cell_type": "markdown",
   "metadata": {
    "id": "pa5VjPfw7Xfm",
    "pycharm": {}
   },
   "source": [
    "The installation of pyomo can be verified by entering a simple model. This model is used in subsequent cells to demonstrate the installation and operation of the solvers."
   ]
  },
  {
   "cell_type": "code",
   "execution_count": 2,
   "metadata": {
    "colab": {
     "base_uri": "https://localhost:8080/"
    },
    "executionInfo": {
     "elapsed": 11,
     "status": "ok",
     "timestamp": 1677084805641,
     "user": {
      "displayName": "Jeffrey Kantor",
      "userId": "09038942003589296665"
     },
     "user_tz": 300
    },
    "id": "LkpGUtiS60lD",
    "outputId": "e84aca64-c0f1-4c29-f3a4-6b4908dad835",
    "pycharm": {}
   },
   "outputs": [
    {
     "name": "stdout",
     "output_type": "stream",
     "text": [
      "2 Var Declarations\n",
      "    x : Size=1, Index=None\n",
      "        Key  : Lower : Value : Upper : Fixed : Stale : Domain\n",
      "        None :     0 :  None :  None : False :  True : NonNegativeReals\n",
      "    y : Size=1, Index=None\n",
      "        Key  : Lower : Value : Upper : Fixed : Stale : Domain\n",
      "        None :     0 :  None :  None : False :  True : NonNegativeReals\n",
      "\n",
      "1 Objective Declarations\n",
      "    profit : Size=1, Index=None, Active=True\n",
      "        Key  : Active : Sense    : Expression\n",
      "        None :   True : maximize : 40*x + 30*y\n",
      "\n",
      "3 Constraint Declarations\n",
      "    demand : Size=1, Index=None, Active=True\n",
      "        Key  : Lower : Body : Upper : Active\n",
      "        None :  -Inf :    x :  40.0 :   True\n",
      "    laborA : Size=1, Index=None, Active=True\n",
      "        Key  : Lower : Body  : Upper : Active\n",
      "        None :  -Inf : x + y :  80.0 :   True\n",
      "    laborB : Size=1, Index=None, Active=True\n",
      "        Key  : Lower : Body    : Upper : Active\n",
      "        None :  -Inf : 2*x + y : 100.0 :   True\n",
      "\n",
      "6 Declarations: x y profit demand laborA laborB\n"
     ]
    }
   ],
   "source": [
    "from pyomo.environ import *\n",
    "\n",
    "# create a model\n",
    "model = ConcreteModel()\n",
    "\n",
    "# declare decision variables\n",
    "model.x = Var(domain=NonNegativeReals)\n",
    "model.y = Var(domain=NonNegativeReals)\n",
    "\n",
    "# declare objective\n",
    "model.profit = Objective(expr = 40*model.x + 30*model.y, sense=maximize)\n",
    "\n",
    "# declare constraints\n",
    "model.demand = Constraint(expr = model.x <= 40)\n",
    "model.laborA = Constraint(expr = model.x + model.y <= 80)\n",
    "model.laborB = Constraint(expr = 2*model.x + model.y <= 100)\n",
    "\n",
    "model.pprint()\n",
    "\n",
    "def display_solution(model):\n",
    "\n",
    "    # display solution\n",
    "    print('\\nProfit = ', model.profit())\n",
    "\n",
    "    print('\\nDecision Variables')\n",
    "    print('x = ', model.x.value)\n",
    "    print('y = ', model.y())\n",
    "\n",
    "    print('\\nConstraints')\n",
    "    print('Demand  = ', model.demand())\n",
    "    print('Labor A = ', model.laborA())\n",
    "    print('Labor B = ', model.laborB())"
   ]
  },
  {
   "cell_type": "markdown",
   "metadata": {
    "id": "t_VxmuXMKGxw"
   },
   "source": [
    "## COIN-OR Clp\n",
    "\n",
    "[COIN-OR Clp](https://github.com/coin-or/Clp) is a multi-threaded open-source linear programming solver written in C++ and distributed under the Eclipse Public License (EPL). Clp is generally a good choice for linear programs that do not include any binary or integer variables. It is generally a superior alternative to GLPK for linear programming applications."
   ]
  },
  {
   "cell_type": "code",
   "execution_count": 3,
   "metadata": {
    "colab": {
     "base_uri": "https://localhost:8080/"
    },
    "executionInfo": {
     "elapsed": 134,
     "status": "ok",
     "timestamp": 1677084805767,
     "user": {
      "displayName": "Jeffrey Kantor",
      "userId": "09038942003589296665"
     },
     "user_tz": 300
    },
    "id": "ulmyhA4UYjRb",
    "outputId": "57df96cd-6516-41fe-a630-70370f9696c0"
   },
   "outputs": [
    {
     "name": "stdout",
     "output_type": "stream",
     "text": [
      "Coin LP version 1.17.4, build Nov  3 2022\n",
      "command line - /content/bin/clp /tmp/tmpwpxnevc3.pyomo.nl -AMPL \n",
      "CLP 1.17.4: \b\b\b\b\b\b\b\b\b\b\b\b# ==========================================================\n",
      "# = Solver Results                                         =\n",
      "# ==========================================================\n",
      "# ----------------------------------------------------------\n",
      "#   Problem Information\n",
      "# ----------------------------------------------------------\n",
      "Problem: \n",
      "- Lower bound: -inf\n",
      "  Upper bound: inf\n",
      "  Number of objectives: 1\n",
      "  Number of constraints: 3\n",
      "  Number of variables: 2\n",
      "  Sense: unknown\n",
      "# ----------------------------------------------------------\n",
      "#   Solver Information\n",
      "# ----------------------------------------------------------\n",
      "Solver: \n",
      "- Status: ok\n",
      "  Message: CLP 1.17.4 optimal, objective -2600; 2 iterations\n",
      "  Termination condition: optimal\n",
      "  Id: 0\n",
      "  Error rc: 0\n",
      "  Time: 0.025131702423095703\n",
      "# ----------------------------------------------------------\n",
      "#   Solution Information\n",
      "# ----------------------------------------------------------\n",
      "Solution: \n",
      "- number of solutions: 0\n",
      "  number of solutions displayed: 0\n",
      "\n",
      "Profit =  2600.0\n",
      "\n",
      "Decision Variables\n",
      "x =  20.0\n",
      "y =  60.0\n",
      "\n",
      "Constraints\n",
      "Demand  =  20.0\n",
      "Labor A =  80.0\n",
      "Labor B =  100.0\n"
     ]
    }
   ],
   "source": [
    "SolverFactory('clp').solve(model, tee=True).write()\n",
    "\n",
    "display_solution(model)"
   ]
  },
  {
   "cell_type": "markdown",
   "metadata": {
    "id": "4bV-uLVe8yu0",
    "pycharm": {}
   },
   "source": [
    "## COIN-OR Cbc\n",
    "\n",
    "[COIN-OR CBC](https://github.com/coin-or/Cbc) is a multi-threaded open-source **C**oin-or **b**ranch and **c**ut mixed-integer linear programming solver written in C++ under the Eclipse Public License (EPL). CBC is generally a good choice for a general purpose MILP solver for medium to large scale problems. It is generally a superior alternative to GLPK for mixed-integer linear programming applications."
   ]
  },
  {
   "cell_type": "code",
   "execution_count": 4,
   "metadata": {
    "colab": {
     "base_uri": "https://localhost:8080/"
    },
    "executionInfo": {
     "elapsed": 6,
     "status": "ok",
     "timestamp": 1677084805768,
     "user": {
      "displayName": "Jeffrey Kantor",
      "userId": "09038942003589296665"
     },
     "user_tz": 300
    },
    "id": "SgtBao9G9K2R",
    "outputId": "e33a6c6d-1257-44eb-ccbc-6534ec6f9d63",
    "pycharm": {}
   },
   "outputs": [
    {
     "name": "stdout",
     "output_type": "stream",
     "text": [
      "Welcome to the CBC MILP Solver \n",
      "Version: 2.10.4 \n",
      "Build Date: Nov  3 2022 \n",
      "\n",
      "command line - /content/bin/cbc -printingOptions all -import /tmp/tmpvigqpod5.pyomo.lp -stat=1 -solve -solu /tmp/tmpvigqpod5.pyomo.soln (default strategy 1)\n",
      "Option for printingOptions changed from normal to all\n",
      " CoinLpIO::readLp(): Maximization problem reformulated as minimization\n",
      "Coin0009I Switching back to maximization to get correct duals etc\n",
      "Presolve 2 (-2) rows, 2 (-1) columns and 4 (-2) elements\n",
      "Statistics for presolved model\n",
      "\n",
      "\n",
      "Problem has 2 rows, 2 columns (2 with objective) and 4 elements\n",
      "Column breakdown:\n",
      "1 of type 0.0->inf, 1 of type 0.0->up, 0 of type lo->inf, \n",
      "0 of type lo->up, 0 of type free, 0 of type fixed, \n",
      "0 of type -inf->0.0, 0 of type -inf->up, 0 of type 0.0->1.0 \n",
      "Row breakdown:\n",
      "0 of type E 0.0, 0 of type E 1.0, 0 of type E -1.0, \n",
      "0 of type E other, 0 of type G 0.0, 0 of type G 1.0, \n",
      "0 of type G other, 0 of type L 0.0, 0 of type L 1.0, \n",
      "2 of type L other, 0 of type Range 0.0->1.0, 0 of type Range other, \n",
      "0 of type Free \n",
      "Presolve 2 (-2) rows, 2 (-1) columns and 4 (-2) elements\n",
      "0  Obj -0 Dual inf 69.999998 (2)\n",
      "2  Obj 2600\n",
      "Optimal - objective value 2600\n",
      "After Postsolve, objective 2600, infeasibilities - dual 0 (0), primal 0 (0)\n",
      "Optimal objective 2600 - 2 iterations time 0.002, Presolve 0.00\n",
      "Total time (CPU seconds):       0.00   (Wallclock seconds):       0.00\n",
      "\n",
      "# ==========================================================\n",
      "# = Solver Results                                         =\n",
      "# ==========================================================\n",
      "# ----------------------------------------------------------\n",
      "#   Problem Information\n",
      "# ----------------------------------------------------------\n",
      "Problem: \n",
      "- Name: unknown\n",
      "  Lower bound: 2600.0\n",
      "  Upper bound: 2600.0\n",
      "  Number of objectives: 1\n",
      "  Number of constraints: 4\n",
      "  Number of variables: 3\n",
      "  Number of nonzeros: 2\n",
      "  Sense: maximize\n",
      "# ----------------------------------------------------------\n",
      "#   Solver Information\n",
      "# ----------------------------------------------------------\n",
      "Solver: \n",
      "- Status: ok\n",
      "  User time: -1.0\n",
      "  System time: 0.0\n",
      "  Wallclock time: 0.0\n",
      "  Termination condition: optimal\n",
      "  Termination message: Model was solved to optimality (subject to tolerances), and an optimal solution is available.\n",
      "  Statistics: \n",
      "    Branch and bound: \n",
      "      Number of bounded subproblems: None\n",
      "      Number of created subproblems: None\n",
      "    Black box: \n",
      "      Number of iterations: 2\n",
      "  Error rc: 0\n",
      "  Time: 0.046584367752075195\n",
      "# ----------------------------------------------------------\n",
      "#   Solution Information\n",
      "# ----------------------------------------------------------\n",
      "Solution: \n",
      "- number of solutions: 0\n",
      "  number of solutions displayed: 0\n",
      "\n",
      "Profit =  2600.0\n",
      "\n",
      "Decision Variables\n",
      "x =  20.0\n",
      "y =  60.0\n",
      "\n",
      "Constraints\n",
      "Demand  =  20.0\n",
      "Labor A =  80.0\n",
      "Labor B =  100.0\n"
     ]
    }
   ],
   "source": [
    "SolverFactory('cbc').solve(model, tee=True).write()\n",
    "\n",
    "display_solution(model)"
   ]
  },
  {
   "cell_type": "markdown",
   "metadata": {
    "id": "OdcuIo9yvA7E",
    "pycharm": {}
   },
   "source": [
    "## COIN-OR Ipopt installation\n",
    "\n",
    "[COIN-OR Ipopt](https://github.com/coin-or/Ipopt) is an open-source **I**nterior **P**oint **Opt**imizer for large-scale nonlinear optimization available under the Eclipse Public License (EPL). It can solve medium to large scale nonlinear programming problems without integer or binary constraints. Note that performance of Ipopt is dependent on the software library used for the underlying linear algebra computations."
   ]
  },
  {
   "cell_type": "code",
   "execution_count": 5,
   "metadata": {
    "colab": {
     "base_uri": "https://localhost:8080/"
    },
    "executionInfo": {
     "elapsed": 159,
     "status": "ok",
     "timestamp": 1677084805924,
     "user": {
      "displayName": "Jeffrey Kantor",
      "userId": "09038942003589296665"
     },
     "user_tz": 300
    },
    "id": "LvFczDKg96aX",
    "outputId": "225bc3ab-c919-488a-f549-91c091d207e0",
    "pycharm": {}
   },
   "outputs": [
    {
     "name": "stdout",
     "output_type": "stream",
     "text": [
      "Ipopt 3.13.2: \n",
      "\n",
      "******************************************************************************\n",
      "This program contains Ipopt, a library for large-scale nonlinear optimization.\n",
      " Ipopt is released as open source code under the Eclipse Public License (EPL).\n",
      "         For more information visit http://projects.coin-or.org/Ipopt\n",
      "\n",
      "This version of Ipopt was compiled from source code available at\n",
      "    https://github.com/IDAES/Ipopt as part of the Institute for the Design of\n",
      "    Advanced Energy Systems Process Systems Engineering Framework (IDAES PSE\n",
      "    Framework) Copyright (c) 2018-2019. See https://github.com/IDAES/idaes-pse.\n",
      "\n",
      "This version of Ipopt was compiled using HSL, a collection of Fortran codes\n",
      "    for large-scale scientific computation.  All technical papers, sales and\n",
      "    publicity material resulting from use of the HSL codes within IPOPT must\n",
      "    contain the following acknowledgement:\n",
      "        HSL, a collection of Fortran codes for large-scale scientific\n",
      "        computation. See http://www.hsl.rl.ac.uk.\n",
      "******************************************************************************\n",
      "\n",
      "This is Ipopt version 3.13.2, running with linear solver ma27.\n",
      "\n",
      "Number of nonzeros in equality constraint Jacobian...:        0\n",
      "Number of nonzeros in inequality constraint Jacobian.:        5\n",
      "Number of nonzeros in Lagrangian Hessian.............:        0\n",
      "\n",
      "Total number of variables............................:        2\n",
      "                     variables with only lower bounds:        2\n",
      "                variables with lower and upper bounds:        0\n",
      "                     variables with only upper bounds:        0\n",
      "Total number of equality constraints.................:        0\n",
      "Total number of inequality constraints...............:        3\n",
      "        inequality constraints with only lower bounds:        0\n",
      "   inequality constraints with lower and upper bounds:        0\n",
      "        inequality constraints with only upper bounds:        3\n",
      "\n",
      "iter    objective    inf_pr   inf_du lg(mu)  ||d||  lg(rg) alpha_du alpha_pr  ls\n",
      "   0 -2.6000000e+03 0.00e+00 1.17e+01  -1.0 0.00e+00    -  0.00e+00 0.00e+00   0\n",
      "   1 -2.6200900e+03 7.50e-01 6.34e+00  -1.0 1.88e+01    -  7.55e-01 5.27e-02f  1\n",
      "   2 -2.6035835e+03 1.39e-01 1.27e+00  -1.0 1.07e+00    -  9.86e-01 8.49e-01h  1\n",
      "   3 -2.5997998e+03 0.00e+00 1.00e-06  -1.0 8.12e-02    -  1.00e+00 1.00e+00h  1\n",
      "   4 -2.5999944e+03 0.00e+00 2.83e-08  -2.5 9.74e-03    -  1.00e+00 1.00e+00f  1\n",
      "   5 -2.5999997e+03 0.00e+00 1.50e-09  -3.8 2.66e-04    -  1.00e+00 1.00e+00f  1\n",
      "   6 -2.6000000e+03 0.00e+00 1.85e-11  -5.7 1.49e-05    -  1.00e+00 1.00e+00f  1\n",
      "   7 -2.6000000e+03 0.00e+00 2.78e-14  -8.6 1.84e-07    -  1.00e+00 1.00e+00f  1\n",
      "\n",
      "Number of Iterations....: 7\n",
      "\n",
      "                                   (scaled)                 (unscaled)\n",
      "Objective...............:  -2.6000000259949879e+03   -2.6000000259949879e+03\n",
      "Dual infeasibility......:   2.7778601068099499e-14    2.7778601068099499e-14\n",
      "Constraint violation....:   0.0000000000000000e+00    0.0000000000000000e+00\n",
      "Complementarity.........:   2.5059421204891839e-09    2.5059421204891839e-09\n",
      "Overall NLP error.......:   2.5059421204891839e-09    2.5059421204891839e-09\n",
      "\n",
      "\n",
      "Number of objective function evaluations             = 8\n",
      "Number of objective gradient evaluations             = 8\n",
      "Number of equality constraint evaluations            = 0\n",
      "Number of inequality constraint evaluations          = 8\n",
      "Number of equality constraint Jacobian evaluations   = 0\n",
      "Number of inequality constraint Jacobian evaluations = 8\n",
      "Number of Lagrangian Hessian evaluations             = 7\n",
      "Total CPU secs in IPOPT (w/o function evaluations)   =      0.005\n",
      "Total CPU secs in NLP function evaluations           =      0.000\n",
      "\n",
      "EXIT: Optimal Solution Found.\n",
      "\b\b\b\b\b\b\b\b\b\b\b\b\b\b# ==========================================================\n",
      "# = Solver Results                                         =\n",
      "# ==========================================================\n",
      "# ----------------------------------------------------------\n",
      "#   Problem Information\n",
      "# ----------------------------------------------------------\n",
      "Problem: \n",
      "- Lower bound: -inf\n",
      "  Upper bound: inf\n",
      "  Number of objectives: 1\n",
      "  Number of constraints: 3\n",
      "  Number of variables: 2\n",
      "  Sense: unknown\n",
      "# ----------------------------------------------------------\n",
      "#   Solver Information\n",
      "# ----------------------------------------------------------\n",
      "Solver: \n",
      "- Status: ok\n",
      "  Message: Ipopt 3.13.2\\x3a Optimal Solution Found\n",
      "  Termination condition: optimal\n",
      "  Id: 0\n",
      "  Error rc: 0\n",
      "  Time: 0.0486142635345459\n",
      "# ----------------------------------------------------------\n",
      "#   Solution Information\n",
      "# ----------------------------------------------------------\n",
      "Solution: \n",
      "- number of solutions: 0\n",
      "  number of solutions displayed: 0\n",
      "\n",
      "Profit =  2600.000025994988\n",
      "\n",
      "Decision Variables\n",
      "x =  20.0000001998747\n",
      "y =  60.0000006\n",
      "\n",
      "Constraints\n",
      "Demand  =  20.0000001998747\n",
      "Labor A =  80.0000007998747\n",
      "Labor B =  100.0000009997494\n"
     ]
    }
   ],
   "source": [
    "SolverFactory('ipopt').solve(model, tee=True).write()\n",
    "\n",
    "display_solution(model)"
   ]
  },
  {
   "cell_type": "markdown",
   "metadata": {
    "id": "Q1ru4X2kuxdl",
    "pycharm": {}
   },
   "source": [
    "## COIN-OR Bonmin installation\n",
    "\n",
    "[COIN-OR Bonmin](https://www.coin-or.org/Bonmin/Intro.html) is a **b**asic **o**pen-source solver for **n**onlinear **m**ixed-**in**teger programming problems (MINLP). It utilizes CBC and Ipopt for solving relaxed subproblems."
   ]
  },
  {
   "cell_type": "code",
   "execution_count": 6,
   "metadata": {
    "colab": {
     "base_uri": "https://localhost:8080/"
    },
    "executionInfo": {
     "elapsed": 140,
     "status": "ok",
     "timestamp": 1677084806062,
     "user": {
      "displayName": "Jeffrey Kantor",
      "userId": "09038942003589296665"
     },
     "user_tz": 300
    },
    "id": "BO_KJVUs-bwS",
    "outputId": "dabb0d6c-6ef2-4780-a683-7e5e44f29578",
    "pycharm": {}
   },
   "outputs": [
    {
     "name": "stdout",
     "output_type": "stream",
     "text": [
      "Bonmin 1.8.8 using Cbc 2.10.4 and Ipopt 3.13.2\n",
      "bonmin: \n",
      "Cbc3007W No integer variables - nothing to do\n",
      "\n",
      "******************************************************************************\n",
      "This program contains Ipopt, a library for large-scale nonlinear optimization.\n",
      " Ipopt is released as open source code under the Eclipse Public License (EPL).\n",
      "         For more information visit http://projects.coin-or.org/Ipopt\n",
      "\n",
      "This version of Ipopt was compiled from source code available at\n",
      "    https://github.com/IDAES/Ipopt as part of the Institute for the Design of\n",
      "    Advanced Energy Systems Process Systems Engineering Framework (IDAES PSE\n",
      "    Framework) Copyright (c) 2018-2019. See https://github.com/IDAES/idaes-pse.\n",
      "\n",
      "This version of Ipopt was compiled using HSL, a collection of Fortran codes\n",
      "    for large-scale scientific computation.  All technical papers, sales and\n",
      "    publicity material resulting from use of the HSL codes within IPOPT must\n",
      "    contain the following acknowledgement:\n",
      "        HSL, a collection of Fortran codes for large-scale scientific\n",
      "        computation. See http://www.hsl.rl.ac.uk.\n",
      "******************************************************************************\n",
      "\n",
      "NLP0012I \n",
      "              Num      Status      Obj             It       time                 Location\n",
      "NLP0014I             1         OPT -2600        6 0.001228\n",
      "Cbc3007W No integer variables - nothing to do\n",
      "\b\b\b\b\b\b\b\b\n",
      " \t\"Finished\"\n",
      "# ==========================================================\n",
      "# = Solver Results                                         =\n",
      "# ==========================================================\n",
      "# ----------------------------------------------------------\n",
      "#   Problem Information\n",
      "# ----------------------------------------------------------\n",
      "Problem: \n",
      "- Lower bound: -inf\n",
      "  Upper bound: inf\n",
      "  Number of objectives: 1\n",
      "  Number of constraints: 0\n",
      "  Number of variables: 2\n",
      "  Sense: unknown\n",
      "# ----------------------------------------------------------\n",
      "#   Solver Information\n",
      "# ----------------------------------------------------------\n",
      "Solver: \n",
      "- Status: ok\n",
      "  Message: bonmin\\x3a Optimal\n",
      "  Termination condition: optimal\n",
      "  Id: 3\n",
      "  Error rc: 0\n",
      "  Time: 0.07909822463989258\n",
      "# ----------------------------------------------------------\n",
      "#   Solution Information\n",
      "# ----------------------------------------------------------\n",
      "Solution: \n",
      "- number of solutions: 0\n",
      "  number of solutions displayed: 0\n",
      "\n",
      "Profit =  2600.0000259999797\n",
      "\n",
      "Decision Variables\n",
      "x =  20.000000199999512\n",
      "y =  60.00000059999998\n",
      "\n",
      "Constraints\n",
      "Demand  =  20.000000199999512\n",
      "Labor A =  80.0000007999995\n",
      "Labor B =  100.000000999999\n"
     ]
    }
   ],
   "source": [
    "SolverFactory('bonmin').solve(model, tee=True).write()\n",
    "\n",
    "display_solution(model)"
   ]
  },
  {
   "cell_type": "markdown",
   "metadata": {
    "id": "TWi6TZIN_RFh",
    "pycharm": {}
   },
   "source": [
    "## COIN-OR Couenne installation\n",
    "\n",
    "[COIN-OR Couenne](https://www.coin-or.org/Couenne/)  is attempts to find global optima for mixed-integer nonlinear programming problems (MINLP)."
   ]
  },
  {
   "cell_type": "code",
   "execution_count": 7,
   "metadata": {
    "colab": {
     "base_uri": "https://localhost:8080/"
    },
    "executionInfo": {
     "elapsed": 130,
     "status": "ok",
     "timestamp": 1677084806190,
     "user": {
      "displayName": "Jeffrey Kantor",
      "userId": "09038942003589296665"
     },
     "user_tz": 300
    },
    "id": "rysHICYQ_RFl",
    "outputId": "06262f00-d583-4d51-e9dc-068c11c284d6",
    "pycharm": {}
   },
   "outputs": [
    {
     "name": "stdout",
     "output_type": "stream",
     "text": [
      "Couenne 0.5.8 -- an Open-Source solver for Mixed Integer Nonlinear Optimization\n",
      "Mailing list: couenne@list.coin-or.org\n",
      "Instructions: http://www.coin-or.org/Couenne\n",
      "couenne: \n",
      "ANALYSIS TEST: Couenne: new cutoff value -2.6000000020e+03 (0.01268 seconds)\n",
      "NLP0012I \n",
      "              Num      Status      Obj             It       time                 Location\n",
      "NLP0014I             1         OPT -2600        6 0.003378\n",
      "Couenne: new cutoff value -2.6000000260e+03 (0.016797 seconds)\n",
      "Loaded instance \"/tmp/tmpo639i8wk.pyomo.nl\"\n",
      "Constraints:            3\n",
      "Variables:              2 (0 integer)\n",
      "Auxiliaries:            2 (0 integer)\n",
      "\n",
      "Coin0506I Presolve 0 (-3) rows, 0 (-4) columns and 0 (-8) elements\n",
      "Clp0000I Optimal - objective value -2600\n",
      "Clp0032I Optimal objective -2600 - 0 iterations time 0.002, Presolve 0.00\n",
      "Cbc3007W No integer variables - nothing to do\n",
      "Clp0000I Optimal - objective value -2600\n",
      "\b\b\b\b\b\b\b\b\b\n",
      " \t\"Finished\"\n",
      "\n",
      "Linearization cuts added at root node:          3\n",
      "Linearization cuts added in total:              3  (separation time: 6.6e-05s)\n",
      "Total solve time:                         0.00059s (0.000588s in branch-and-bound)\n",
      "Lower bound:                                -2600\n",
      "Upper bound:                                -2600  (gap: 0.00%)\n",
      "Branch-and-bound nodes:                         0\n",
      "Performance of                           FBBT:\t     0.0002s,        3 runs. fix:          0 shrnk:    8.10732 ubd:          0 2ubd:          0 infeas:          0\n",
      "# ==========================================================\n",
      "# = Solver Results                                         =\n",
      "# ==========================================================\n",
      "# ----------------------------------------------------------\n",
      "#   Problem Information\n",
      "# ----------------------------------------------------------\n",
      "Problem: \n",
      "- Lower bound: -inf\n",
      "  Upper bound: inf\n",
      "  Number of objectives: 1\n",
      "  Number of constraints: 0\n",
      "  Number of variables: 2\n",
      "  Sense: unknown\n",
      "# ----------------------------------------------------------\n",
      "#   Solver Information\n",
      "# ----------------------------------------------------------\n",
      "Solver: \n",
      "- Status: ok\n",
      "  Message: couenne\\x3a Optimal\n",
      "  Termination condition: optimal\n",
      "  Id: 3\n",
      "  Error rc: 0\n",
      "  Time: 0.048601627349853516\n",
      "# ----------------------------------------------------------\n",
      "#   Solution Information\n",
      "# ----------------------------------------------------------\n",
      "Solution: \n",
      "- number of solutions: 0\n",
      "  number of solutions displayed: 0\n",
      "\n",
      "Profit =  2600.00002599998\n",
      "\n",
      "Decision Variables\n",
      "x =  20.000000199999516\n",
      "y =  60.000000599999986\n",
      "\n",
      "Constraints\n",
      "Demand  =  20.000000199999516\n",
      "Labor A =  80.0000007999995\n",
      "Labor B =  100.00000099999902\n"
     ]
    }
   ],
   "source": [
    "SolverFactory('couenne').solve(model, tee=True).write()\n",
    "\n",
    "display_solution(model)"
   ]
  },
  {
   "cell_type": "code",
   "execution_count": 7,
   "metadata": {
    "executionInfo": {
     "elapsed": 3,
     "status": "ok",
     "timestamp": 1677084806191,
     "user": {
      "displayName": "Jeffrey Kantor",
      "userId": "09038942003589296665"
     },
     "user_tz": 300
    },
    "id": "uQLFeAJ9D9wn",
    "pycharm": {}
   },
   "outputs": [],
   "source": []
  }
 ],
 "metadata": {
  "colab": {
   "provenance": []
  },
  "kernelspec": {
   "display_name": "Python 3 (ipykernel)",
   "language": "python",
   "name": "python3"
  },
  "language_info": {
   "codemirror_mode": {
    "name": "ipython",
    "version": 3
   },
   "file_extension": ".py",
   "mimetype": "text/x-python",
   "name": "python",
   "nbconvert_exporter": "python",
   "pygments_lexer": "ipython3",
   "version": "3.9.13"
  }
 },
 "nbformat": 4,
 "nbformat_minor": 0
}